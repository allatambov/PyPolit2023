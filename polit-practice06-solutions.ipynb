{
 "cells": [
  {
   "cell_type": "markdown",
   "id": "1397d941",
   "metadata": {
    "id": "1397d941"
   },
   "source": [
    "# Основы программирования в Python\n",
    "\n",
    "*Алла Тамбовцева, НИУ ВШЭ*\n",
    "\n",
    "## Практикум 6: условные конструкции"
   ]
  },
  {
   "cell_type": "markdown",
   "id": "749be83c",
   "metadata": {
    "id": "749be83c"
   },
   "source": [
    "### Задача 1\n",
    "\n",
    "Напишите программу, которая просит пользователя ввести положительное число, и если пользователь вводит положительное число, выводит на экран сообщение \"Молодец!\", если нет – \"Ошибка!\". Считайте, что пользователь в любом случае вводит числа (целые или дробные), а не какой-то текст."
   ]
  },
  {
   "cell_type": "code",
   "execution_count": 1,
   "id": "2dbd1d7a",
   "metadata": {
    "colab": {
     "base_uri": "https://localhost:8080/"
    },
    "id": "2dbd1d7a",
    "outputId": "c6c8178f-78d5-40c8-9b31-cba84871e38e"
   },
   "outputs": [
    {
     "name": "stdout",
     "output_type": "stream",
     "text": [
      "8\n",
      "Молодец!\n"
     ]
    }
   ],
   "source": [
    "n = float(input())\n",
    "if n > 0:\n",
    "    print(\"Молодец!\")\n",
    "else:\n",
    "    print(\"Ошибка!\")"
   ]
  },
  {
   "cell_type": "markdown",
   "id": "66628986",
   "metadata": {
    "id": "66628986"
   },
   "source": [
    "### Задача 2\n",
    "\n",
    "Напишите программу, которая просит пользователя ввести с клавиатуры два целых числа через пробел и выводит на экран максимальное из двух введенных значений. Использовать функцию `max()` и сортировку при решении нельзя."
   ]
  },
  {
   "cell_type": "code",
   "execution_count": 2,
   "id": "542aff08",
   "metadata": {
    "colab": {
     "base_uri": "https://localhost:8080/"
    },
    "id": "542aff08",
    "outputId": "53547e7d-bc5d-4ba7-8b04-bab3551ce263"
   },
   "outputs": [
    {
     "name": "stdout",
     "output_type": "stream",
     "text": [
      "1 9\n",
      "9\n"
     ]
    }
   ],
   "source": [
    "inp = input().split()\n",
    "a = int(inp[0])\n",
    "b = int(inp[1])\n",
    "if a > b:\n",
    "    print(a)\n",
    "else:\n",
    "    print(b)"
   ]
  },
  {
   "cell_type": "markdown",
   "id": "63646b15",
   "metadata": {
    "id": "63646b15"
   },
   "source": [
    "### Задача 3\n",
    "\n",
    "У питона есть набор любимых чисел.\n",
    "\n",
    "    favorites = [3, 7, 11, 23, 18, 48, 81]\n",
    "\n",
    "Напишите программу, которая просит пользователя ввести целое число, и если оно нравится питону, на экран будет выводиться сообщение: \"Мое любимое число!\", если нет ‒ \"Эх, ну почему?\"."
   ]
  },
  {
   "cell_type": "code",
   "execution_count": 3,
   "id": "3c266cf2",
   "metadata": {
    "colab": {
     "base_uri": "https://localhost:8080/"
    },
    "id": "3c266cf2",
    "outputId": "fad3aef9-81f5-4c07-fd77-bc97632691d9"
   },
   "outputs": [
    {
     "name": "stdout",
     "output_type": "stream",
     "text": [
      "23\n",
      "Мое любимое число!\n"
     ]
    }
   ],
   "source": [
    "favorites = [3, 7, 11, 23, 18, 48, 81]\n",
    "number = int(input())\n",
    "if number in favorites:\n",
    "    print(\"Мое любимое число!\")\n",
    "else:\n",
    "    print(\"Эх, ну почему?\")"
   ]
  },
  {
   "cell_type": "markdown",
   "id": "72071c9d",
   "metadata": {
    "id": "72071c9d"
   },
   "source": [
    "###  Задача 4\n",
    "\n",
    "В файле `ducks.txt` хранятся цитаты героев \"Утиных историй\" с указанием автора цитаты (одна строка в файле – цитата и имя героя, разделенные табуляцией).\n",
    "\n",
    "Глобальная задача: написать игру-угадайку, где пользователю на экран последовательно выводятся цитаты и в ответ на каждую цитату предлагается ввести с клавиатуры имя соответствующего героя.\n",
    "\n",
    "Для простоты давайте считать, что набор имен ограничен, пользователь должен вводить имена героев из следующего списка: Скрудж, Зигзаг, Клювдия.\n",
    "\n",
    "Пошаговый алгоритм решения:\n",
    "\n",
    "1. Считать строки из файла и сохранить их в список `lines`.\n",
    "2. Перебрать строки в списке `lines`, разбить каждую по символу табуляции, результаты сохранить в виде кортежей с парами *(цитата, герой)* в список `results`. \n",
    "4. Создать переменную `score`, равную нулю. Для каждой пары из `results` вывести на экран цитату (первый элемент пары), запросить ответ, и если он совпадает с автором цитаты (вторым элементом пары), добавить к `score` 1 балл. В конце вывести общий набранный балл в следующем формате:\n",
    "\n",
    "        Ваш результат: [score]/7."
   ]
  },
  {
   "cell_type": "code",
   "execution_count": 4,
   "id": "3aca143e",
   "metadata": {
    "id": "3aca143e"
   },
   "outputs": [],
   "source": [
    "f = open(\"ducks.txt\", \"r\", encoding = \"utf-8\")\n",
    "lines = f.readlines()\n",
    "\n",
    "# уберем \\n в конце каждой строки и пересохраним\n",
    "lines = [line.strip() for line in lines] "
   ]
  },
  {
   "cell_type": "code",
   "execution_count": 5,
   "id": "ydmK2BROmqJr",
   "metadata": {
    "colab": {
     "base_uri": "https://localhost:8080/"
    },
    "id": "ydmK2BROmqJr",
    "outputId": "f89fb8bf-b517-4bda-bfbb-87c8b5939ae2"
   },
   "outputs": [
    {
     "data": {
      "text/plain": [
       "[('Были бы крылья, разбиться сумеем!', 'Зигзаг'),\n",
       " ('Не волнуйтесь, ребята, все мечтают, чтобы я потерялся, но я всегда возвращаюсь!',\n",
       "  'Зигзаг'),\n",
       " ('На моей кухне я привидений не потерплю!', 'Клювдия'),\n",
       " ('ГРАБИТЕЛИ! ВОРЫ! ПОЛИТИКИ!', 'Скрудж'),\n",
       " ('Катастрофа, которую можно избежать — приятная катастрофа.', 'Зигзаг'),\n",
       " ('Если авария неизбежна, то пусть она будет хотя бы красивой.', 'Скрудж'),\n",
       " ('Что лучше: богатый селезень или мертвый?', 'Клювдия')]"
      ]
     },
     "execution_count": 5,
     "metadata": {},
     "output_type": "execute_result"
    }
   ],
   "source": [
    "results = []\n",
    "for line in lines:\n",
    "    r = line.split(\"\\t\")\n",
    "    results.append(tuple(r))\n",
    "results"
   ]
  },
  {
   "cell_type": "code",
   "execution_count": 7,
   "id": "XoCRNzKZnJOU",
   "metadata": {
    "colab": {
     "base_uri": "https://localhost:8080/",
     "height": 380
    },
    "id": "XoCRNzKZnJOU",
    "outputId": "1f6b2e82-216c-40fd-b8df-2cb4863ad60a"
   },
   "outputs": [
    {
     "name": "stdout",
     "output_type": "stream",
     "text": [
      "Были бы крылья, разбиться сумеем!\n",
      "Зигзаг\n",
      "Не волнуйтесь, ребята, все мечтают, чтобы я потерялся, но я всегда возвращаюсь!\n",
      "Зигзаг\n",
      "На моей кухне я привидений не потерплю!\n",
      "Клювдия\n",
      "ГРАБИТЕЛИ! ВОРЫ! ПОЛИТИКИ!\n",
      "Скрудж\n",
      "Катастрофа, которую можно избежать — приятная катастрофа.\n",
      "Зигзаг\n",
      "Если авария неизбежна, то пусть она будет хотя бы красивой.\n",
      "Зигзаг\n",
      "Что лучше: богатый селезень или мертвый?\n",
      "Скрудж\n",
      "Ваш результат: 5/7.\n"
     ]
    }
   ],
   "source": [
    "score = 0\n",
    "for pair in results:\n",
    "    quote = pair[0]\n",
    "    answer = pair[1]\n",
    "    print(quote)\n",
    "    guess = input()\n",
    "    if guess == answer:\n",
    "        score = score + 1\n",
    "print(f\"Ваш результат: {score}/7.\")"
   ]
  },
  {
   "cell_type": "code",
   "execution_count": 10,
   "id": "Yo2kAUh6njuZ",
   "metadata": {
    "id": "Yo2kAUh6njuZ"
   },
   "outputs": [
    {
     "name": "stdout",
     "output_type": "stream",
     "text": [
      "Были бы крылья, разбиться сумеем!\n",
      "Зигзаг\n",
      "Не волнуйтесь, ребята, все мечтают, чтобы я потерялся, но я всегда возвращаюсь!\n",
      "Зигзаг\n",
      "На моей кухне я привидений не потерплю!\n",
      "Клювдия\n",
      "ГРАБИТЕЛИ! ВОРЫ! ПОЛИТИКИ!\n",
      "Скрудж\n",
      "Катастрофа, которую можно избежать — приятная катастрофа.\n",
      "\n",
      "Если авария неизбежна, то пусть она будет хотя бы красивой.\n",
      "\n",
      "Что лучше: богатый селезень или мертвый?\n",
      "\n",
      "Ваш результат: 4/7.\n"
     ]
    }
   ],
   "source": [
    "# более компактное решение\n",
    "# списковые включения для lines и results\n",
    "# Python понимает, что один элемент при переборе results – это пара\n",
    "# поэтому quote – первый элемент в каждой паре, а answer – второй\n",
    "\n",
    "f = open(\"ducks.txt\", \"r\", encoding = \"utf-8\")\n",
    "lines = [line.strip() for line in f.readlines()]\n",
    "results = [tuple(s.split(\"\\t\")) for s in lines]\n",
    "\n",
    "score = 0\n",
    "for quote, answer in results:\n",
    "    print(quote)\n",
    "    guess = input()\n",
    "    if guess == answer:\n",
    "        score += 1\n",
    "print(f\"Ваш результат: {score}/7.\")"
   ]
  }
 ],
 "metadata": {
  "colab": {
   "provenance": []
  },
  "kernelspec": {
   "display_name": "Python 3 (ipykernel)",
   "language": "python",
   "name": "python3"
  },
  "language_info": {
   "codemirror_mode": {
    "name": "ipython",
    "version": 3
   },
   "file_extension": ".py",
   "mimetype": "text/x-python",
   "name": "python",
   "nbconvert_exporter": "python",
   "pygments_lexer": "ipython3",
   "version": "3.9.7"
  }
 },
 "nbformat": 4,
 "nbformat_minor": 5
}
