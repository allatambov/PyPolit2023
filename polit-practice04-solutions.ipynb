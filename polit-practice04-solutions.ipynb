{
 "cells": [
  {
   "cell_type": "markdown",
   "metadata": {},
   "source": [
    "# Основы программирования в Python\n",
    "\n",
    "*Алла Тамбовцева, НИУ ВШЭ*\n",
    "\n",
    "## Практикум 4: функции `range()` и `zip()`, массивы"
   ]
  },
  {
   "cell_type": "markdown",
   "metadata": {},
   "source": [
    "### Задача 1\n",
    "\n",
    "Напишите программу, которая запрашивает с клавиатуры два целых числа через пробел (назовём их $a$ и $b$) и выводит на экран перечень целых чисел от $a$ до $b$ включительно.\n",
    "\n",
    "**Пример работы программы**\n",
    "\n",
    "Ввод:\n",
    "\n",
    "    2 7\n",
    "\n",
    "Вывод:\n",
    "\n",
    "    2 3 4 5 6 7"
   ]
  },
  {
   "cell_type": "code",
   "execution_count": 1,
   "metadata": {},
   "outputs": [
    {
     "name": "stdout",
     "output_type": "stream",
     "text": [
      "2 10\n",
      "2 3 4 5 6 7 8 9 10\n"
     ]
    }
   ],
   "source": [
    "# разбиваем введенную строку по пробелу \n",
    "# и получаем список со строками\n",
    "\n",
    "inp = input().split()\n",
    "\n",
    "# извлекаем первый элемент списка и делаем его числом\n",
    "# извлекаем второй элемент списка и делаем его числом\n",
    "\n",
    "a = int(inp[0])\n",
    "b = int(inp[1])\n",
    "\n",
    "# получаем список чисел от a до b включительно\n",
    "\n",
    "L = list(range(a, b + 1)) \n",
    "\n",
    "# чтобы получить строку из чисел с пробелами,\n",
    "# нужно превратить эти числа в строки,\n",
    "# создаем новый список из строк L_str\n",
    "\n",
    "L_str = []\n",
    "for i in L:\n",
    "    L_str.append(str(i)) \n",
    "    \n",
    "# наконец, все склеиваем в одну строку\n",
    "\n",
    "print(\" \".join(L_str))"
   ]
  },
  {
   "cell_type": "code",
   "execution_count": 2,
   "metadata": {},
   "outputs": [
    {
     "name": "stdout",
     "output_type": "stream",
     "text": [
      "2 10\n",
      "2 3 4 5 6 7 8 9 10\n"
     ]
    }
   ],
   "source": [
    "# то же самое, но со списковым включением вместо цикла\n",
    "\n",
    "inp = input().split()\n",
    "a = int(inp[0])\n",
    "b = int(inp[1])\n",
    "L = list(range(a, b + 1)) \n",
    "\n",
    "# без явного цикла создаем новый список на основе старого\n",
    "\n",
    "L_str = [str(i) for i in L] \n",
    "print(\" \".join(L_str))"
   ]
  },
  {
   "cell_type": "code",
   "execution_count": 3,
   "metadata": {},
   "outputs": [
    {
     "name": "stdout",
     "output_type": "stream",
     "text": [
      "2 10\n",
      "2 3 4 5 6 7 8 9 10\n"
     ]
    }
   ],
   "source": [
    "# то же самое совсем компактно\n",
    "# первый элемент списка записывается в a, второй – в b\n",
    "# делаем перебор по range() и сразу делаем числа строками\n",
    "\n",
    "a, b = input().split()\n",
    "L_str = [str(i) for i in range(int(a), int(b) + 1)]\n",
    "print(\" \".join(L_str))"
   ]
  },
  {
   "cell_type": "markdown",
   "metadata": {},
   "source": [
    "### Задача 2\n",
    "\n",
    "Напишите программу, которая запрашивает с клавиатуры целое число $n$ и выводит на экран сумму квадратов чисел от 1 до $n$ включительно.\n",
    "\n",
    "Решите эту задачу:\n",
    "\n",
    "* в предположении, что создавать список и считать сумму его элементов можно;\n",
    "\n",
    "* в предположении, что создавать списки нельзя."
   ]
  },
  {
   "cell_type": "code",
   "execution_count": 4,
   "metadata": {},
   "outputs": [
    {
     "name": "stdout",
     "output_type": "stream",
     "text": [
      "5\n",
      "55\n"
     ]
    }
   ],
   "source": [
    "# со списками\n",
    "\n",
    "n = int(input())\n",
    "squares = []\n",
    "for i in range(1, n + 1):\n",
    "    squares.append(i ** 2)\n",
    "print(sum(squares)) "
   ]
  },
  {
   "cell_type": "code",
   "execution_count": 5,
   "metadata": {},
   "outputs": [
    {
     "name": "stdout",
     "output_type": "stream",
     "text": [
      "5\n",
      "55\n"
     ]
    }
   ],
   "source": [
    "# без списков\n",
    "\n",
    "n = int(input())\n",
    "S = 0\n",
    "for i in range(1, n + 1):\n",
    "    S = S + i ** 2 # S += i ** 2 \n",
    "print(S)"
   ]
  },
  {
   "cell_type": "markdown",
   "metadata": {},
   "source": [
    "### Задача 3\n",
    "\n",
    "API ВКонтакте (интерфейс, который включает в себя базу данных, к которой можно отправить запрос и выгрузить доступные данные о пользователях/сообществах/постах) разрешает за один раз выгрузить не более 100 постов со стены пользователя или сообщества (параметр `count`). \n",
    "\n",
    "Однако возможность выгрузить более 100 постов есть – в запросе нужно указать параметр сдвига `offset`, который позволит начинать выгрузку не с начала, а с определённого места. Так, если `offset` равен 0, выкачиваться будут посты с 0 по 100, если `offset` равен 100, выкачиваться будут посты с 100 по 200, если `offset` равен 200, посты с 200 по 300, и так далее.\n",
    "\n",
    "Число постов на стене сообщества сохранено в переменной `nposts`, текстовый шаблон для запроса – в переменной `req`, число постов для выгрузки за один раз – в переменной `count`, параметр сдвига – в переменной `offset`."
   ]
  },
  {
   "cell_type": "code",
   "execution_count": 6,
   "metadata": {},
   "outputs": [
    {
     "name": "stdout",
     "output_type": "stream",
     "text": [
      "https://api.vk.com/method/wall.get?access_token=123&v=5.131&domain=hseteachers&count=100&offset=0\n"
     ]
    }
   ],
   "source": [
    "nposts = 1467\n",
    "count = 100\n",
    "offset = 0\n",
    "\n",
    "# wall.get, метод для выгрузки постов со стены\n",
    "# access_token=123, условный токен доступа, обычно он длинный\n",
    "# v=5.131, версия API\n",
    "# domain=hseteachers, сообщество Цитатник ВШЭ\n",
    "\n",
    "# \\ позволяет разбивать текст на несколько строк\n",
    "# для удобства, не добавляяя лишние переносы и пробелы\n",
    "\n",
    "req = f\"https://api.vk.com/method/wall.get?access_token=123\\\n",
    "&v=5.131&domain=hseteachers&count={count}&offset={offset}\"\n",
    "\n",
    "print(req)"
   ]
  },
  {
   "cell_type": "markdown",
   "metadata": {},
   "source": [
    "Допишите код ниже таким образом, чтобы он выводил на экран подходящие запросы столько раз, сколько необходимо для выгрузки всех постов."
   ]
  },
  {
   "cell_type": "code",
   "execution_count": 7,
   "metadata": {},
   "outputs": [
    {
     "name": "stdout",
     "output_type": "stream",
     "text": [
      "https://api.vk.com/method/wall.get?access_token=123&v=5.131&domain=hseteachers&count=100&offset=0\n",
      "https://api.vk.com/method/wall.get?access_token=123&v=5.131&domain=hseteachers&count=100&offset=100\n",
      "https://api.vk.com/method/wall.get?access_token=123&v=5.131&domain=hseteachers&count=100&offset=200\n",
      "https://api.vk.com/method/wall.get?access_token=123&v=5.131&domain=hseteachers&count=100&offset=300\n",
      "https://api.vk.com/method/wall.get?access_token=123&v=5.131&domain=hseteachers&count=100&offset=400\n",
      "https://api.vk.com/method/wall.get?access_token=123&v=5.131&domain=hseteachers&count=100&offset=500\n",
      "https://api.vk.com/method/wall.get?access_token=123&v=5.131&domain=hseteachers&count=100&offset=600\n",
      "https://api.vk.com/method/wall.get?access_token=123&v=5.131&domain=hseteachers&count=100&offset=700\n",
      "https://api.vk.com/method/wall.get?access_token=123&v=5.131&domain=hseteachers&count=100&offset=800\n",
      "https://api.vk.com/method/wall.get?access_token=123&v=5.131&domain=hseteachers&count=100&offset=900\n",
      "https://api.vk.com/method/wall.get?access_token=123&v=5.131&domain=hseteachers&count=100&offset=1000\n",
      "https://api.vk.com/method/wall.get?access_token=123&v=5.131&domain=hseteachers&count=100&offset=1100\n",
      "https://api.vk.com/method/wall.get?access_token=123&v=5.131&domain=hseteachers&count=100&offset=1200\n",
      "https://api.vk.com/method/wall.get?access_token=123&v=5.131&domain=hseteachers&count=100&offset=1300\n",
      "https://api.vk.com/method/wall.get?access_token=123&v=5.131&domain=hseteachers&count=100&offset=1400\n"
     ]
    }
   ],
   "source": [
    "nposts = 1467\n",
    "count = 100\n",
    "offset = 0\n",
    "\n",
    "repeat = 1467 // 100 + 1\n",
    "\n",
    "for i in range(repeat):\n",
    "    req = f\"https://api.vk.com/method/wall.get?access_token=123&v=5.131&domain=hseteachers&count={count}&offset={offset}\"\n",
    "    offset = offset + 100\n",
    "    print(req)"
   ]
  },
  {
   "cell_type": "markdown",
   "metadata": {},
   "source": [
    "### Задача 4\n",
    "\n",
    "Даны два списка с частями адресов:"
   ]
  },
  {
   "cell_type": "code",
   "execution_count": 8,
   "metadata": {},
   "outputs": [],
   "source": [
    "part01 = [\"Москва\", \"Санкт-Петербург\", \"Пермь\", \"Нижний Новгород\"]\n",
    "part02 = [\"Мясницкая улица, дом 20\", \n",
    "          \"Кантемировская улица дом 3, корп.1, лит. А\", \n",
    "          \"Студенческая улица, дом 38\", \n",
    "          \"Большая Печерская улица, дом 25/12\"] "
   ]
  },
  {
   "cell_type": "markdown",
   "metadata": {},
   "source": [
    "Напишите программу, которая сохраняет в список `full` полные адреса, то есть адреса, где части из `part01` и `part02` склеены с помощью запятой и пробела, например, \n",
    "так:\n",
    "\n",
    "    Москва, Мясницкая улица, 20"
   ]
  },
  {
   "cell_type": "code",
   "execution_count": 9,
   "metadata": {},
   "outputs": [
    {
     "name": "stdout",
     "output_type": "stream",
     "text": [
      "['Москва, Мясницкая улица, дом 20', 'Санкт-Петербург, Кантемировская улица дом 3, корп.1, лит. А', 'Пермь, Студенческая улица, дом 38', 'Нижний Новгород, Большая Печерская улица, дом 25/12']\n"
     ]
    }
   ],
   "source": [
    "# нас интересуют элементы на одинаковых местах \n",
    "# в двух списках -> будем двигаться по их индексам,\n",
    "# то есть по range от 0 до длины списка\n",
    "# range(len(part01)) = [0, 1, 2, 3]\n",
    "\n",
    "full = []\n",
    "for i in range(len(part01)):\n",
    "    a = \", \".join([part01[i], part02[i]])\n",
    "    full.append(a)\n",
    "print(full)"
   ]
  },
  {
   "cell_type": "code",
   "execution_count": 10,
   "metadata": {},
   "outputs": [
    {
     "data": {
      "text/plain": [
       "[('Москва', 'Мясницкая улица, дом 20'),\n",
       " ('Санкт-Петербург', 'Кантемировская улица дом 3, корп.1, лит. А'),\n",
       " ('Пермь', 'Студенческая улица, дом 38'),\n",
       " ('Нижний Новгород', 'Большая Печерская улица, дом 25/12')]"
      ]
     },
     "execution_count": 10,
     "metadata": {},
     "output_type": "execute_result"
    }
   ],
   "source": [
    "# можем сделать то же самое без перебора индексов \n",
    "# функция zip() поможет создать пары элементов\n",
    "# результат похож на список кортежей\n",
    "\n",
    "list(zip(part01, part02))"
   ]
  },
  {
   "cell_type": "code",
   "execution_count": 11,
   "metadata": {},
   "outputs": [
    {
     "name": "stdout",
     "output_type": "stream",
     "text": [
      "['Москва, Мясницкая улица, дом 20', 'Санкт-Петербург, Кантемировская улица дом 3, корп.1, лит. А', 'Пермь, Студенческая улица, дом 38', 'Нижний Новгород, Большая Печерская улица, дом 25/12']\n"
     ]
    }
   ],
   "source": [
    "# Python умеет делать перебор по парам значений в zip()\n",
    "# p1 – первый элемент в каждой паре (город)\n",
    "# p2 – второй элемент в каждой паре (улица с домом)\n",
    "\n",
    "full = []\n",
    "for p1, p2 in zip(part01, part02):\n",
    "    a = \", \".join([p1, p2])\n",
    "    full.append(a)\n",
    "print(full)"
   ]
  },
  {
   "cell_type": "code",
   "execution_count": 12,
   "metadata": {},
   "outputs": [
    {
     "name": "stdout",
     "output_type": "stream",
     "text": [
      "['Москва, Мясницкая улица, дом 20', 'Санкт-Петербург, Кантемировская улица дом 3, корп.1, лит. А', 'Пермь, Студенческая улица, дом 38', 'Нижний Новгород, Большая Печерская улица, дом 25/12']\n"
     ]
    }
   ],
   "source": [
    "# еще один вариант с zip() и без .join()\n",
    "# делаем перебор пар\n",
    "# p[0] – первый элемент в каждой паре (город)\n",
    "# p[1] – второй элемент в каждой паре (улица с домом)\n",
    "\n",
    "full = []\n",
    "for p in zip(part01, part02):\n",
    "    a = p[0] + \", \" + p[1]\n",
    "    full.append(a)\n",
    "print(full)"
   ]
  },
  {
   "cell_type": "markdown",
   "metadata": {},
   "source": [
    "### Задача 5\n",
    "\n",
    "В списке `valid` сохранено число действительных бюллетеней на 5 избирательных участках, а в списке`invalid` – число недействительных бюллетеней на тех же участках. Также известно общее число избирателей на каждом участке, значения сохранены в списке `total`. Используя имеющиеся списки, вычислите явку (в процентах) на каждом избирательном участке и выведите на экран с новой строки полученные значения, округлённые до второго знака после запятой.\n",
    "\n",
    "Решите эту задачу:\n",
    "\n",
    "* без использования `zip()`;\n",
    "* с использованием `zip()`;\n",
    "* с использованием массивов.\n",
    "\n",
    "*Напоминание.* Явка на каждом участке определяется как сумма действительных и недействительных бюллетеней, делённая на общее число зарегистированных избирателей (не забудьте перевести полученную долю в проценты).\n",
    "\n",
    "**Пример работы программы**\n",
    "\n",
    "На выходе:\n",
    "\n",
    "    51.11\n",
    "    96.02\n",
    "    60.83\n",
    "    88.76\n",
    "    46.52"
   ]
  },
  {
   "cell_type": "code",
   "execution_count": 13,
   "metadata": {},
   "outputs": [],
   "source": [
    "valid = [450, 787, 630, 740, 950]\n",
    "invalid = [10, 202, 100, 50, 120]\n",
    "total = [900, 1030, 1200, 890, 2300]"
   ]
  },
  {
   "cell_type": "code",
   "execution_count": 14,
   "metadata": {},
   "outputs": [
    {
     "name": "stdout",
     "output_type": "stream",
     "text": [
      "51.11\n",
      "96.02\n",
      "60.83\n",
      "88.76\n",
      "46.52\n"
     ]
    }
   ],
   "source": [
    "# без zip()\n",
    "# берем элементы с одинаковым индексом \n",
    "# из valid, invalid, total и считаем явку\n",
    "\n",
    "for i in range(len(valid)):\n",
    "    turnout_perc = (valid[i] + invalid[i]) / total[i] * 100\n",
    "    print(round(turnout_perc, 2))"
   ]
  },
  {
   "cell_type": "code",
   "execution_count": 15,
   "metadata": {},
   "outputs": [
    {
     "data": {
      "text/plain": [
       "[(450, 10, 900),\n",
       " (787, 202, 1030),\n",
       " (630, 100, 1200),\n",
       " (740, 50, 890),\n",
       " (950, 120, 2300)]"
      ]
     },
     "execution_count": 15,
     "metadata": {},
     "output_type": "execute_result"
    }
   ],
   "source": [
    "# как выглядит zip() для трех списков\n",
    "\n",
    "list(zip(valid, invalid, total))"
   ]
  },
  {
   "cell_type": "code",
   "execution_count": 16,
   "metadata": {},
   "outputs": [
    {
     "name": "stdout",
     "output_type": "stream",
     "text": [
      "51.11\n",
      "96.02\n",
      "60.83\n",
      "88.76\n",
      "46.52\n"
     ]
    }
   ],
   "source": [
    "# с zip()\n",
    "# v - первый элемент каждой «тройки» выше\n",
    "# i – второй элемент каждой «тройки» выше\n",
    "# t – третий элемент каждой «тройки» выше\n",
    "\n",
    "for v, i, t in zip(valid, invalid, total):\n",
    "    turnout_perc = (v + i) / t * 100\n",
    "    print(round(turnout_perc, 2))"
   ]
  },
  {
   "cell_type": "code",
   "execution_count": 17,
   "metadata": {},
   "outputs": [
    {
     "name": "stdout",
     "output_type": "stream",
     "text": [
      "51.11\n",
      "96.02\n",
      "60.83\n",
      "88.76\n",
      "46.52\n"
     ]
    }
   ],
   "source": [
    "# с массивами все еще проще – обсудим их позже\n",
    "# в отличие от списков, с массивами можно работать поэлементно\n",
    "\n",
    "import numpy as np\n",
    "\n",
    "Valid = np.array(valid)\n",
    "Invalid = np.array(invalid)\n",
    "Total = np.array(total)\n",
    "\n",
    "Turnout = (Valid + Invalid) / Total * 100\n",
    "\n",
    "for t in Turnout:\n",
    "    print(round(t, 2))"
   ]
  }
 ],
 "metadata": {
  "kernelspec": {
   "display_name": "Python 3",
   "language": "python",
   "name": "python3"
  },
  "language_info": {
   "codemirror_mode": {
    "name": "ipython",
    "version": 3
   },
   "file_extension": ".py",
   "mimetype": "text/x-python",
   "name": "python",
   "nbconvert_exporter": "python",
   "pygments_lexer": "ipython3",
   "version": "3.7.4"
  }
 },
 "nbformat": 4,
 "nbformat_minor": 2
}
