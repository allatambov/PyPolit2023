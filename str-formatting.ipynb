{
 "cells": [
  {
   "cell_type": "markdown",
   "metadata": {},
   "source": [
    "# Основы программирования в Python\n",
    "\n",
    "*Алла Тамбовцева, НИУ ВШЭ*"
   ]
  },
  {
   "cell_type": "markdown",
   "metadata": {},
   "source": [
    "## Форматирование строк (string formatting). Методы `.split()` и `.join()`.\n",
    "\n",
    "### Классическое форматирование через `%`"
   ]
  },
  {
   "cell_type": "markdown",
   "metadata": {},
   "source": [
    "А теперь посмотрим на то, как подставлять значения в уже имеющийся текстовый шаблон, то есть форматировать строки. Чтобы понять, о чём идет речь, можно представить, что у нас есть электронная анкета, которую заполняет пользователь, и мы должны написать программу, которая выводит на экран введенные данные, чтобы пользователь мог их проверить.\n",
    "\n",
    "Пусть для начала пользователь вводит своё имя и возраст."
   ]
  },
  {
   "cell_type": "code",
   "execution_count": 1,
   "metadata": {},
   "outputs": [
    {
     "name": "stdout",
     "output_type": "stream",
     "text": [
      "Введите Ваше имя: Алла\n",
      "Введите Ваш возраст: 28\n"
     ]
    }
   ],
   "source": [
    "name = input(\"Введите Ваше имя: \")\n",
    "age = int(input(\"Введите Ваш возраст: \"))"
   ]
  },
  {
   "cell_type": "markdown",
   "metadata": {},
   "source": [
    "Теперь выведем на экран сообщение вида \n",
    "\n",
    "    Ваше имя: `имя`. Ваш возраст: `возраст`. "
   ]
  },
  {
   "cell_type": "markdown",
   "metadata": {},
   "source": [
    "Но прежде, чем это сделать, поймем, какого типа будут значения, которые мы будем подставлять в шаблон. Имя – это строка (*string*), а возраст – это целое число (*integer*)."
   ]
  },
  {
   "cell_type": "code",
   "execution_count": 2,
   "metadata": {},
   "outputs": [
    {
     "name": "stdout",
     "output_type": "stream",
     "text": [
      "Ваше имя: Алла. Ваш возраст: 28.\n"
     ]
    }
   ],
   "source": [
    "result = \"Ваше имя: %s. Ваш возраст: %i.\" % (name, age)\n",
    "print(result)"
   ]
  },
  {
   "cell_type": "markdown",
   "metadata": {},
   "source": [
    "Что за таинственные `%s` и `%i`? Все просто: оператор `%` в строке указывает место, на которое будет подставляться значение, а буква сразу после процента – сокращённое название типа данных (`s` – от *string* и `i` – от *integer*). Осталось только сообщить Python, что именно нужно подставлять – после кавычек поставить `%` и в скобках перечислить названия переменных, значения которых мы будем подставлять. \n",
    "\n",
    "Конечно, результат можно выводить сразу, не сохраняя полученную строку в переменную."
   ]
  },
  {
   "cell_type": "code",
   "execution_count": 3,
   "metadata": {},
   "outputs": [
    {
     "name": "stdout",
     "output_type": "stream",
     "text": [
      "Ваше имя: Алла. Ваш возраст: 28.\n"
     ]
    }
   ],
   "source": [
    "print(\"Ваше имя: %s. Ваш возраст: %i.\" % (name, age))"
   ]
  },
  {
   "cell_type": "markdown",
   "metadata": {},
   "source": [
    ">**Примечание:** не теряйте часть с переменными после самой строки, а также круглые скобки вокруг названий переменных, из которых мы подставляем значения, если их несколько."
   ]
  },
  {
   "cell_type": "markdown",
   "metadata": {},
   "source": [
    "Важно помнить, что если мы забудем указать какую-то из переменных, мы получим ошибку (точнее, исключение): Python не будет знать, откуда брать нужные значения. "
   ]
  },
  {
   "cell_type": "code",
   "execution_count": 5,
   "metadata": {},
   "outputs": [
    {
     "ename": "TypeError",
     "evalue": "not enough arguments for format string",
     "output_type": "error",
     "traceback": [
      "\u001b[0;31m---------------------------------------------------------------------------\u001b[0m",
      "\u001b[0;31mTypeError\u001b[0m                                 Traceback (most recent call last)",
      "\u001b[0;32m<ipython-input-5-750569399717>\u001b[0m in \u001b[0;36m<module>\u001b[0;34m\u001b[0m\n\u001b[0;32m----> 1\u001b[0;31m \u001b[0mprint\u001b[0m\u001b[0;34m(\u001b[0m\u001b[0;34m\"Ваше имя: %s. Ваш возраст: %i.\"\u001b[0m \u001b[0;34m%\u001b[0m \u001b[0mname\u001b[0m\u001b[0;34m)\u001b[0m\u001b[0;34m\u001b[0m\u001b[0;34m\u001b[0m\u001b[0m\n\u001b[0m",
      "\u001b[0;31mTypeError\u001b[0m: not enough arguments for format string"
     ]
    }
   ],
   "source": [
    "print(\"Ваше имя: %s. Ваш возраст: %i.\" % name)"
   ]
  },
  {
   "cell_type": "markdown",
   "metadata": {},
   "source": [
    "Кроме того, создавая такие текстовые шаблоны, нужно обращать внимание на типы переменных, значения которых мы подставляем. "
   ]
  },
  {
   "cell_type": "code",
   "execution_count": 6,
   "metadata": {},
   "outputs": [
    {
     "name": "stdout",
     "output_type": "stream",
     "text": [
      "Ваше имя: Алла. Ваш возраст: 28.\n"
     ]
    }
   ],
   "source": [
    "# так сработает, int -> str\n",
    "\n",
    "print(\"Ваше имя: %s. Ваш возраст: %s.\" % (name, age))"
   ]
  },
  {
   "cell_type": "code",
   "execution_count": 7,
   "metadata": {},
   "outputs": [
    {
     "ename": "TypeError",
     "evalue": "%i format: a number is required, not str",
     "output_type": "error",
     "traceback": [
      "\u001b[0;31m---------------------------------------------------------------------------\u001b[0m",
      "\u001b[0;31mTypeError\u001b[0m                                 Traceback (most recent call last)",
      "\u001b[0;32m<ipython-input-7-56a9bdee4ac7>\u001b[0m in \u001b[0;36m<module>\u001b[0;34m\u001b[0m\n\u001b[1;32m      1\u001b[0m \u001b[0;31m# а так нет, str !-> int\u001b[0m\u001b[0;34m\u001b[0m\u001b[0;34m\u001b[0m\u001b[0;34m\u001b[0m\u001b[0m\n\u001b[1;32m      2\u001b[0m \u001b[0;34m\u001b[0m\u001b[0m\n\u001b[0;32m----> 3\u001b[0;31m \u001b[0mprint\u001b[0m\u001b[0;34m(\u001b[0m\u001b[0;34m\"Ваше имя: %i. Ваш возраст: %s.\"\u001b[0m \u001b[0;34m%\u001b[0m \u001b[0;34m(\u001b[0m\u001b[0mname\u001b[0m\u001b[0;34m,\u001b[0m \u001b[0mage\u001b[0m\u001b[0;34m)\u001b[0m\u001b[0;34m)\u001b[0m\u001b[0;34m\u001b[0m\u001b[0;34m\u001b[0m\u001b[0m\n\u001b[0m",
      "\u001b[0;31mTypeError\u001b[0m: %i format: a number is required, not str"
     ]
    }
   ],
   "source": [
    "# а так нет, str !-> int\n",
    "\n",
    "print(\"Ваше имя: %i. Ваш возраст: %s.\" % (name, age))"
   ]
  },
  {
   "cell_type": "markdown",
   "metadata": {},
   "source": [
    "А что будет, если мы будем подставлять не целое число, а дробное, с плавающей точкой? Попробуем!"
   ]
  },
  {
   "cell_type": "code",
   "execution_count": 8,
   "metadata": {},
   "outputs": [
    {
     "name": "stdout",
     "output_type": "stream",
     "text": [
      "Введите Ваш рост (в метрах): 1.68\n"
     ]
    },
    {
     "data": {
      "text/plain": [
       "1.68"
      ]
     },
     "execution_count": 8,
     "metadata": {},
     "output_type": "execute_result"
    }
   ],
   "source": [
    "height = float(input(\"Введите Ваш рост (в метрах): \"))\n",
    "height"
   ]
  },
  {
   "cell_type": "code",
   "execution_count": 9,
   "metadata": {},
   "outputs": [
    {
     "name": "stdout",
     "output_type": "stream",
     "text": [
      "Ваш рост: 1.680000 м.\n"
     ]
    }
   ],
   "source": [
    "# f - от float\n",
    "\n",
    "print(\"Ваш рост: %f м.\" % height)  "
   ]
  },
  {
   "cell_type": "markdown",
   "metadata": {},
   "source": [
    "По умолчанию при подстановке значений типа *float* Python выводит число с шестью знаками после запятой. Но это можно исправить. Перед `f` нужно поставить точку и указать число знаков после запятой, которое мы хотим:"
   ]
  },
  {
   "cell_type": "code",
   "execution_count": 10,
   "metadata": {},
   "outputs": [
    {
     "name": "stdout",
     "output_type": "stream",
     "text": [
      "Ваш рост: 1.68 м.\n"
     ]
    }
   ],
   "source": [
    "print(\"Ваш рост: %.2f м.\" % height)  # например, два"
   ]
  },
  {
   "cell_type": "code",
   "execution_count": 11,
   "metadata": {},
   "outputs": [
    {
     "name": "stdout",
     "output_type": "stream",
     "text": [
      "Ваш рост: 1.7 м. \n"
     ]
    }
   ],
   "source": [
    "print(\"Ваш рост: %.1f м. \" % height)  # или один"
   ]
  },
  {
   "cell_type": "markdown",
   "metadata": {},
   "source": [
    "В случае, если указанное число знаков после запятой меньше, чем есть на самом деле (как в ячейке выше), происходит обычное арифметическое округление."
   ]
  },
  {
   "cell_type": "markdown",
   "metadata": {},
   "source": [
    "### Форматирование строк через f-strings"
   ]
  },
  {
   "cell_type": "markdown",
   "metadata": {},
   "source": [
    "Рассмотренный выше способ форматирования строк – не единственный. Он довольно стандартный, но при этом немного устаревший. В Python 3 есть другой способ – форматирование с помощью метода `.format()`. Кроме того, в Python 3.6 и более поздних версиях появился ещё более продвинутый способ форматирования строк – f-строки или *f-strings* (от *formatted string literals*, неформально также описывают как *fast strings*). Этот способ позволяет не только подставлять в текстовый шаблон значения переменных, но и исполнять выражения с кодом внутри строки. \n",
    "\n",
    "F-strings очень удобны и просты в использовании: вместо `%` и сокращённого названия типа в фигурных скобках внутри текстового шаблона нужно указать название переменной, из которой должно подставляться значение, а перед всей строкой добавить `f`, чтобы Python знал, что нам нужна именно *f-string*."
   ]
  },
  {
   "cell_type": "code",
   "execution_count": 12,
   "metadata": {},
   "outputs": [
    {
     "name": "stdout",
     "output_type": "stream",
     "text": [
      "Ваше имя: Алла. Ваш возраст: 28.\n"
     ]
    }
   ],
   "source": [
    "print(f\"Ваше имя: {name}. Ваш возраст: {age}.\")"
   ]
  },
  {
   "cell_type": "markdown",
   "metadata": {},
   "source": [
    "В случае подстановки значений типа `float` в f-строку Python не будет дописывать лишние нули или убирать лишние знаки после запятой, он будет выводить число «как есть»:"
   ]
  },
  {
   "cell_type": "code",
   "execution_count": 13,
   "metadata": {},
   "outputs": [
    {
     "name": "stdout",
     "output_type": "stream",
     "text": [
      "Ваш рост: 1.68.\n"
     ]
    }
   ],
   "source": [
    "print(f\"Ваш рост: {height}.\")  # нет лишних знаков"
   ]
  },
  {
   "cell_type": "markdown",
   "metadata": {},
   "source": [
    "Если нам все же нужно зафиксировать число знаков после запятой, их можно указать после названия переменной через `:`"
   ]
  },
  {
   "cell_type": "code",
   "execution_count": 14,
   "metadata": {},
   "outputs": [
    {
     "name": "stdout",
     "output_type": "stream",
     "text": [
      "Ваш рост: 1.680.\n"
     ]
    }
   ],
   "source": [
    "print(f\"Ваш рост: {height:.3f}.\")"
   ]
  },
  {
   "cell_type": "code",
   "execution_count": 15,
   "metadata": {},
   "outputs": [
    {
     "name": "stdout",
     "output_type": "stream",
     "text": [
      "Ваш рост: 1.7.\n"
     ]
    }
   ],
   "source": [
    "print(f\"Ваш рост: {height:.1f}.\")"
   ]
  },
  {
   "cell_type": "markdown",
   "metadata": {},
   "source": [
    "Внутри f-строк также можно размещать целые выражения – небольшой код на Python. В таком случае код будет запущен, а результат его исполнения подставлен в текстовую строку."
   ]
  },
  {
   "cell_type": "code",
   "execution_count": 16,
   "metadata": {},
   "outputs": [
    {
     "name": "stdout",
     "output_type": "stream",
     "text": [
      "Возраст в квадрате: 784.\n"
     ]
    }
   ],
   "source": [
    "# пример выражения с оператором\n",
    "\n",
    "print(f\"Возраст в квадрате: {age ** 2}.\")"
   ]
  },
  {
   "cell_type": "code",
   "execution_count": 17,
   "metadata": {},
   "outputs": [
    {
     "name": "stdout",
     "output_type": "stream",
     "text": [
      "Ваш рост: 1.7.\n"
     ]
    }
   ],
   "source": [
    "# пример выражения с функцией\n",
    "\n",
    "print(f\"Ваш рост: {round(height, 1)}.\")  "
   ]
  },
  {
   "cell_type": "markdown",
   "metadata": {},
   "source": [
    "### Методы `.split()` и `.join()`"
   ]
  },
  {
   "cell_type": "markdown",
   "metadata": {},
   "source": [
    "Одни из самых распространённых методов на строках – методы `split()` и `.join()`. Первый нужен для того, чтобы разбивать строку на части, а второй – чтобы, напротив, склеивать перечень строк в одну большую строку. Допустим, у нас есть строка с текстом и мы хотим разбить его на слова. Применим метод `.split()`:"
   ]
  },
  {
   "cell_type": "code",
   "execution_count": 18,
   "metadata": {},
   "outputs": [
    {
     "data": {
      "text/plain": [
       "['1', '2', '3']"
      ]
     },
     "execution_count": 18,
     "metadata": {},
     "output_type": "execute_result"
    }
   ],
   "source": [
    "s = \"1 2 3\"\n",
    "s.split()"
   ]
  },
  {
   "cell_type": "markdown",
   "metadata": {},
   "source": [
    "По умолчанию `.split()` разбивает строку по пробелу и возвращает список, состоящий из частей строки. Но в качестве разделителя можно указать любой набор символов:"
   ]
  },
  {
   "cell_type": "code",
   "execution_count": 19,
   "metadata": {},
   "outputs": [
    {
     "data": {
      "text/plain": [
       "['01', '02', '2023']"
      ]
     },
     "execution_count": 19,
     "metadata": {},
     "output_type": "execute_result"
    }
   ],
   "source": [
    "date = \"01-02-2023\"\n",
    "date.split(\"-\")"
   ]
  },
  {
   "cell_type": "markdown",
   "metadata": {},
   "source": [
    "Метод `.split()` удобно сочетать с функцией `input()`, если мы знаем, что пользователь должен вводить с клавиатуры несколько элементов:"
   ]
  },
  {
   "cell_type": "code",
   "execution_count": 20,
   "metadata": {},
   "outputs": [
    {
     "name": "stdout",
     "output_type": "stream",
     "text": [
      "2 3\n"
     ]
    },
    {
     "data": {
      "text/plain": [
       "['2', '3']"
      ]
     },
     "execution_count": 20,
     "metadata": {},
     "output_type": "execute_result"
    }
   ],
   "source": [
    "inp = input().split()\n",
    "inp"
   ]
  },
  {
   "cell_type": "markdown",
   "metadata": {},
   "source": [
    "Однако стоит учитывать, что метод `.split()` всегда возвращает список строк. Если мы захотим работать с результатами ввода как с числами, их необходимо будет преобразовать в соответствующий тип.  Проще всего это сделать через цикл или функцию `map()`, но их мы обсудим позже, поэтому пока мы можем просто извлечь из списка элементы по индексу и преобразовать их в числа по-отдельности. Вычислим сумму чисел, которые ввел пользователь (нумерация элементов в Python начинается с нуля, поэтому первый элемент – это нулевой, а второй – первый):"
   ]
  },
  {
   "cell_type": "code",
   "execution_count": 21,
   "metadata": {},
   "outputs": [
    {
     "data": {
      "text/plain": [
       "5"
      ]
     },
     "execution_count": 21,
     "metadata": {},
     "output_type": "execute_result"
    }
   ],
   "source": [
    "int(inp[0]) + int(inp[1])"
   ]
  },
  {
   "cell_type": "markdown",
   "metadata": {},
   "source": [
    "Метод `.join()` производит обратную операцию – конкатенацию строк. Он склеивает перечень строк в одну строку. Метод применяется к строке – разделителю, который мы будем использовать при склеивании, а в качестве аргумента указывается перечень строк (список или кортеж)."
   ]
  },
  {
   "cell_type": "code",
   "execution_count": 22,
   "metadata": {},
   "outputs": [
    {
     "name": "stdout",
     "output_type": "stream",
     "text": [
      "A-B-C\n"
     ]
    }
   ],
   "source": [
    "print(\"-\".join([\"A\", \"B\", \"C\"]))"
   ]
  },
  {
   "cell_type": "code",
   "execution_count": 23,
   "metadata": {},
   "outputs": [
    {
     "name": "stdout",
     "output_type": "stream",
     "text": [
      "A\n",
      "B\n",
      "C\n"
     ]
    }
   ],
   "source": [
    "print(\"\\n\".join([\"A\", \"B\", \"C\"]))  # \\n – переход на новую с"
   ]
  },
  {
   "cell_type": "code",
   "execution_count": 24,
   "metadata": {},
   "outputs": [
    {
     "name": "stdout",
     "output_type": "stream",
     "text": [
      "A\tB\tC\n"
     ]
    }
   ],
   "source": [
    "print(\"\\t\".join([\"A\", \"B\", \"C\"]))  # \\t – табуляция"
   ]
  }
 ],
 "metadata": {
  "kernelspec": {
   "display_name": "Python 3",
   "language": "python",
   "name": "python3"
  },
  "language_info": {
   "codemirror_mode": {
    "name": "ipython",
    "version": 3
   },
   "file_extension": ".py",
   "mimetype": "text/x-python",
   "name": "python",
   "nbconvert_exporter": "python",
   "pygments_lexer": "ipython3",
   "version": "3.7.4"
  }
 },
 "nbformat": 4,
 "nbformat_minor": 2
}
