{
 "cells": [
  {
   "cell_type": "markdown",
   "metadata": {},
   "source": [
    "# Основы программирования в Python\n",
    "\n",
    "*Алла Тамбовцева, НИУ ВШЭ*\n",
    "\n",
    "## Практикум 7: условные конструкции и цикл `while`"
   ]
  },
  {
   "cell_type": "markdown",
   "metadata": {},
   "source": [
    "### Задача 1\n",
    "\n",
    "Напишите программу, которая запрашивает с клавиатуры какое-то одно слово и выводит на экран строку \"Это имя собственное\", если слово начинается с заглавной буквы, а остальные буквы строчные, и строку \"Наверное, это не имя собственное\" в обратном случае. Строки с сообщениями сохранены в переменных `true` и `false`."
   ]
  },
  {
   "cell_type": "code",
   "execution_count": 1,
   "metadata": {},
   "outputs": [
    {
     "name": "stdout",
     "output_type": "stream",
     "text": [
      "кот\n",
      "Наверное, это не имя собственное\n"
     ]
    }
   ],
   "source": [
    "# решение 1: straightforward\n",
    "# буквально проверяем, является ли первая буква заглавной,\n",
    "# а все остальные – строчными\n",
    "\n",
    "true = \"Это имя собственное\"\n",
    "false = \"Наверное, это не имя собственное\"\n",
    "\n",
    "word = input()\n",
    "if word[0].isupper() and word[1:].islower():\n",
    "    print(true)\n",
    "else:\n",
    "    print(false) "
   ]
  },
  {
   "cell_type": "code",
   "execution_count": 2,
   "metadata": {},
   "outputs": [
    {
     "name": "stdout",
     "output_type": "stream",
     "text": [
      "Gauss\n",
      "Это имя собственное\n"
     ]
    }
   ],
   "source": [
    "# решение 2: самое удобное\n",
    "# то же, что и выше, но через готовый метод istitle()\n",
    "\n",
    "word = input()\n",
    "if word.istitle(): \n",
    "    print(true)\n",
    "else:\n",
    "    print(false) "
   ]
  },
  {
   "cell_type": "code",
   "execution_count": 3,
   "metadata": {},
   "outputs": [
    {
     "name": "stdout",
     "output_type": "stream",
     "text": [
      "БЕГЕМОТ\n",
      "Наверное, это не имя собственное\n"
     ]
    }
   ],
   "source": [
    "# решение 3: сравниваем исходный ввод и результат\n",
    "# обработки через capitalize(), он делает первую букву заглавной, \n",
    "# остальные строчными\n",
    "\n",
    "word = input()\n",
    "if word == word.capitalize(): \n",
    "    print(true)\n",
    "else:\n",
    "    print(false) "
   ]
  },
  {
   "cell_type": "markdown",
   "metadata": {},
   "source": [
    "### Задача 2\n",
    "\n",
    "В списке `files` сохранены названия файлов с разными расширениями. Напишите программу, которая сохранит в список `docs` только файлы с расширением `.doc` или `.docx`. Элементы в списке `docs` должны быть отсортированы по алфавиту."
   ]
  },
  {
   "cell_type": "code",
   "execution_count": 4,
   "metadata": {},
   "outputs": [
    {
     "name": "stdout",
     "output_type": "stream",
     "text": [
      "['mydoc.docx', 'review.doc', 'Заявление(копия).docx', 'Заявление.docx', 'Сценарий.doc']\n"
     ]
    }
   ],
   "source": [
    "files = [\"review.doc\", \"main.html\", \"mydoc.docx\", \"dreams-data.csv\", \"intro.R\", \n",
    "         \"hw01.tex\", \"Заявление.docx\", \"Заявление(копия).docx\", \"Расписание.xlsx\", \"Сценарий.doc\"]\n",
    "\n",
    "docs = []\n",
    "for file in files:\n",
    "    if file.endswith(\".doc\") or file.endswith(\".docx\"):\n",
    "        docs.append(file) \n",
    "docs.sort()  #  или docs = sorted(docs)\n",
    "print(docs)"
   ]
  },
  {
   "cell_type": "markdown",
   "metadata": {},
   "source": [
    "### Задача 3\n",
    "\n",
    "*(Из банка заданий независимого экзамена)*\n",
    "\n",
    "Реализуйте следующую программу:\n",
    "\n",
    "* Вводится целое положительное число N1, затем с новой строки вводится целое положительное число N2 (этот код уже написан). \n",
    "* Гарантируется, что N2 больше N1. \n",
    "* Нужно вывести квадраты всех четных чисел от N1 до N2 включительно, каждое число на новой строке."
   ]
  },
  {
   "cell_type": "code",
   "execution_count": 5,
   "metadata": {},
   "outputs": [
    {
     "name": "stdout",
     "output_type": "stream",
     "text": [
      "2\n",
      "12\n",
      "4\n",
      "16\n",
      "36\n",
      "64\n",
      "100\n",
      "144\n"
     ]
    }
   ],
   "source": [
    "N1 = int(input())\n",
    "N2 = int(input())\n",
    "\n",
    "for x in range(N1, N2 + 1):\n",
    "    if x % 2 == 0:\n",
    "        print(x ** 2) "
   ]
  },
  {
   "cell_type": "markdown",
   "metadata": {},
   "source": [
    "### Задача 4\n",
    "\n",
    "В списке `marks` сохранены имена и оценки студентов в шкале от 0 до 10. Напишите программу, которая запрашивает с клавиатуры целое число от 0 до 10 и сохраняет в список `upper` имена студентов из списка, чьи оценки не менее введенного значения. "
   ]
  },
  {
   "cell_type": "code",
   "execution_count": 6,
   "metadata": {},
   "outputs": [
    {
     "name": "stdout",
     "output_type": "stream",
     "text": [
      "7\n",
      "['Harry', 'Tim', 'Sue', 'Cassandra', 'Violetta']\n"
     ]
    }
   ],
   "source": [
    "marks = [(\"Harry\", 8), (\"Tim\", 9), (\"Berta\", 6), (\"Sue\", 7), (\"Tom\", 3),\n",
    "         (\"Cassandra\", 10), (\"Sam\", 5), (\"George\", 4), (\"Violetta\", 8)]\n",
    "value = int(input())\n",
    "\n",
    "# проходимся по всем парам\n",
    "# проверяем условие для второго элемента пары (оценка),\n",
    "# а если оно выполняется, забираем первый элемент пары (имя)\n",
    "\n",
    "upper = []\n",
    "for pair in marks:\n",
    "    if pair[1] >= value:\n",
    "        upper.append(pair[0])\n",
    "print(upper)"
   ]
  },
  {
   "cell_type": "code",
   "execution_count": 7,
   "metadata": {},
   "outputs": [
    {
     "name": "stdout",
     "output_type": "stream",
     "text": [
      "7\n",
      "['Harry', 'Tim', 'Sue', 'Cassandra', 'Violetta']\n"
     ]
    }
   ],
   "source": [
    "marks = [(\"Harry\", 8), (\"Tim\", 9), (\"Berta\", 6), (\"Sue\", 7), (\"Tom\", 3),\n",
    "         (\"Cassandra\", 10), (\"Sam\", 5), (\"George\", 4), (\"Violetta\", 8)]\n",
    "value = int(input())\n",
    "\n",
    "# то же решение, но посимпатичнее\n",
    "# Python понимает, что name –  первый элемент пары\n",
    "# grade –  второй\n",
    "\n",
    "upper = []\n",
    "for name, grade in marks:\n",
    "    if grade >= value:\n",
    "        upper.append(name)\n",
    "print(upper)"
   ]
  },
  {
   "cell_type": "code",
   "execution_count": 8,
   "metadata": {},
   "outputs": [
    {
     "data": {
      "text/plain": [
       "(0, 1)"
      ]
     },
     "execution_count": 8,
     "metadata": {},
     "output_type": "execute_result"
    }
   ],
   "source": [
    "# откуда Python это понимает?\n",
    "# объединение в кортеж\n",
    "\n",
    "# множественное присваивание\n",
    "# объединение в кортеж0, 1"
   ]
  },
  {
   "cell_type": "code",
   "execution_count": 9,
   "metadata": {},
   "outputs": [
    {
     "name": "stdout",
     "output_type": "stream",
     "text": [
      "0 1\n"
     ]
    }
   ],
   "source": [
    "# множественное присваивание\n",
    "# сразу записываем a = 0 и b = 1\n",
    "# вот и после for то же самое\n",
    "\n",
    "a, b = 0, 1\n",
    "print(a, b)"
   ]
  },
  {
   "cell_type": "markdown",
   "metadata": {},
   "source": [
    "### Задача 5\n",
    "\n",
    "*(Из банка заданий независимого экзамена)*\n",
    "\n",
    "Считываются два списка — `names` и `languages` — и строка `info`. Этот код уже написан.\n",
    "\n",
    "* Список `names` содержит имена студентов (строки). Список `languages` cодержит названия иностранных языков (строки). Количество элементов в списках совпадает — каждый введенный язык из списка `languages` соответствует студенту из списка `names`.\n",
    "* Строка `info` содержит название иностранного языка.\n",
    "* Напишите программу, которая сохранит в новый список имена только тех студентов из списка `names`, которые говорят на введенном языке (`info`). Имена добавляются в порядке их появления.\n",
    "* В конце программа должна напечатать получившийся список. Получившийся список может быть пустым."
   ]
  },
  {
   "cell_type": "code",
   "execution_count": 10,
   "metadata": {},
   "outputs": [
    {
     "name": "stdout",
     "output_type": "stream",
     "text": [
      "A B C D E\n",
      "ru en ru en fr\n",
      "en\n"
     ]
    }
   ],
   "source": [
    "names = input().split()\n",
    "languages = input().split()\n",
    "info = input()"
   ]
  },
  {
   "cell_type": "code",
   "execution_count": 11,
   "metadata": {},
   "outputs": [
    {
     "name": "stdout",
     "output_type": "stream",
     "text": [
      "['B', 'D']\n"
     ]
    }
   ],
   "source": [
    "# решение 1: перебираем индексы в двух списках сразу\n",
    "# i = 0, 1, 2, 3, 4\n",
    "\n",
    "chosen = []\n",
    "for i in range(len(names)):\n",
    "    if languages[i] == info:\n",
    "        chosen.append(names[i])\n",
    "print(chosen)"
   ]
  },
  {
   "cell_type": "code",
   "execution_count": 12,
   "metadata": {},
   "outputs": [
    {
     "name": "stdout",
     "output_type": "stream",
     "text": [
      "['B', 'D']\n"
     ]
    }
   ],
   "source": [
    "# решение 2: получше\n",
    "# создаем пары через zip()\n",
    "# перебираем пары, проверяем условие для второго элемента пары\n",
    "# забираем первый элемент пары, как в задаче выше\n",
    "\n",
    "chosen = []\n",
    "for name, lang in zip(names, languages):\n",
    "    if lang == info:\n",
    "        chosen.append(name)\n",
    "print(chosen)"
   ]
  },
  {
   "cell_type": "code",
   "execution_count": 13,
   "metadata": {},
   "outputs": [
    {
     "data": {
      "text/plain": [
       "[('A', 'ru'), ('B', 'en'), ('C', 'ru'), ('D', 'en'), ('E', 'fr')]"
      ]
     },
     "execution_count": 13,
     "metadata": {},
     "output_type": "execute_result"
    }
   ],
   "source": [
    "# для понимания – что внутри zip()\n",
    "list(zip(names, languages))"
   ]
  },
  {
   "cell_type": "markdown",
   "metadata": {},
   "source": [
    "<span style=\"color:blue\">Задачи 6 и 7 разберем в следующий раз (но решить их уже можно!)</span>"
   ]
  },
  {
   "cell_type": "markdown",
   "metadata": {},
   "source": [
    "### Задача 6\n",
    "\n",
    "*(Из банка заданий независимого экзамена)*\n",
    "\n",
    "Напишите программу, которая запрашивает у пользователя ввод числа до тех пор, пока он не введет число 10. \n",
    "\n",
    "* Если введено любое число, кроме 10, программа выводит следующую строку: \"Ошибка. Введите число 10\". \n",
    "* Как только введено число 10, программа выводит строку \"Все работает!\".\n",
    "* Нужный для вывода текст мы сохранили в переменные `error` и `ok`."
   ]
  },
  {
   "cell_type": "code",
   "execution_count": null,
   "metadata": {},
   "outputs": [],
   "source": [
    "error = \"Ошибка. Введите число 10\"\n",
    "ok = \"Все работает!\"\n",
    "\n",
    "### YOUR CODE HERE ###"
   ]
  },
  {
   "cell_type": "markdown",
   "metadata": {},
   "source": [
    "### Задача 7\n",
    "\n",
    "Напишите программу, которая запрашивает у пользователя пароль, и далее:\n",
    "\n",
    "* если пароль верный, выводит на экран сообщение \"Login success\".\n",
    "* если пароль неверный, выводит на экран сообщение \"Incorrect password, try again!\" до тех пор, пока пользователь не введет верный пароль.\n",
    "\n",
    "Считайте, что верный пароль сохранен в строке `password`."
   ]
  },
  {
   "cell_type": "code",
   "execution_count": null,
   "metadata": {},
   "outputs": [],
   "source": [
    "password = \"hsepassword\"\n",
    "\n",
    "### YOUR CODE HERE ###"
   ]
  }
 ],
 "metadata": {
  "kernelspec": {
   "display_name": "Python 3 (ipykernel)",
   "language": "python",
   "name": "python3"
  },
  "language_info": {
   "codemirror_mode": {
    "name": "ipython",
    "version": 3
   },
   "file_extension": ".py",
   "mimetype": "text/x-python",
   "name": "python",
   "nbconvert_exporter": "python",
   "pygments_lexer": "ipython3",
   "version": "3.9.7"
  }
 },
 "nbformat": 4,
 "nbformat_minor": 2
}
