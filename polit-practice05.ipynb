{
 "cells": [
  {
   "cell_type": "markdown",
   "metadata": {},
   "source": [
    "# Основы программирования в Python\n",
    "\n",
    "*Алла Тамбовцева, НИУ ВШЭ*\n",
    "\n",
    "## Практикум 5: методы на строках, работа с текстом"
   ]
  },
  {
   "cell_type": "markdown",
   "metadata": {},
   "source": [
    "### Задача 1\n",
    "\n",
    "Напишите программу, которая запрашивает у пользователя с клавиатуры некоторый текст, и выводит на экран этот текст, только заглавными буквами и с восклицательным знаком на конце.\n",
    "\n",
    "**Пример работы программы**\n",
    "\n",
    "Ввод:\n",
    "\n",
    "    exam is coming\n",
    "\n",
    "Вывод:\n",
    "\n",
    "    EXAM IS COMING!"
   ]
  },
  {
   "cell_type": "code",
   "execution_count": null,
   "metadata": {},
   "outputs": [],
   "source": [
    "### YOUR CODE HERE ###"
   ]
  },
  {
   "cell_type": "markdown",
   "metadata": {},
   "source": [
    "### Задача 2\n",
    "\n",
    "Напишите программу, которая принимает на вход список слов `words` и создаёт на его основе новый список `words_clean`, в котором все слова написаны в нижнем регистре. "
   ]
  },
  {
   "cell_type": "code",
   "execution_count": 1,
   "metadata": {},
   "outputs": [],
   "source": [
    "words = [\"Speak \", \"to\", \"me \", \"of\", \"Florence \",\n",
    "         \"And \", \"of\", \"the\", \"Renaissance\"]"
   ]
  },
  {
   "cell_type": "code",
   "execution_count": null,
   "metadata": {},
   "outputs": [],
   "source": [
    "### YOUR CODE HERE ###"
   ]
  },
  {
   "cell_type": "markdown",
   "metadata": {},
   "source": [
    "### Задача 3\n",
    "\n",
    "Напишите программу, которая приводит текст, сохранённый в переменной `text`, к нормальному виду. Нормальный вид текста: текст состоит только из слов в начальной форме, записанных маленькими буквами через пробел, нет никаких посторонних символов. \n",
    "\n",
    "Алгоритм работы: \n",
    "\n",
    "1. Привести все буквы к нижнему регистру.\n",
    "2. Заменить все знаки препинания на пробелы. \n",
    "3. Разбить текст на слова и получить список слов.\n",
    "4. Избавиться от лишних пробелов в словах внутри полученного списка.\n",
    "5. Привести каждое слово в списке к начальной форме.\n",
    "6. Склеить все слова в начальной форме в одну строку с текстом."
   ]
  },
  {
   "cell_type": "markdown",
   "metadata": {},
   "source": [
    "**Полезный код 1.** Знаки препинания можно извлечь из строки `punctuation`, которая хранится в модуле `string`. Однако там не все знаки препинания, например, нет русских кавычек-ёлочек и длинного тире. Их можно добавить самостоятельно!"
   ]
  },
  {
   "cell_type": "code",
   "execution_count": 2,
   "metadata": {},
   "outputs": [
    {
     "name": "stdout",
     "output_type": "stream",
     "text": [
      "!\"#$%&'()*+,-./:;<=>?@[\\]^_`{|}~\n"
     ]
    }
   ],
   "source": [
    "from string import punctuation\n",
    "print(punctuation)"
   ]
  },
  {
   "cell_type": "markdown",
   "metadata": {},
   "source": [
    "**Полезный код 2.** Привести слова к начальной форме без специальных библиотек не получится. Можно установить библиотеку `pymorphy2`, в неё встроен морфологический анализатор – программа, которая позволяет выполнять морфологический разбор слова.\n",
    "\n",
    "Установка библиотеки:"
   ]
  },
  {
   "cell_type": "code",
   "execution_count": null,
   "metadata": {},
   "outputs": [],
   "source": [
    "!pip install pymorphy2"
   ]
  },
  {
   "cell_type": "code",
   "execution_count": 3,
   "metadata": {},
   "outputs": [
    {
     "name": "stdout",
     "output_type": "stream",
     "text": [
      "политолог\n"
     ]
    }
   ],
   "source": [
    "from pymorphy2 import MorphAnalyzer\n",
    "\n",
    "# создаем анализатор\n",
    "morph = MorphAnalyzer()\n",
    "\n",
    "# делаем разбор и забираем начальную форму\n",
    "print(morph.parse('политологами')[0].normal_form)"
   ]
  },
  {
   "cell_type": "code",
   "execution_count": null,
   "metadata": {},
   "outputs": [],
   "source": [
    "### YOUR CODE HERE ###"
   ]
  }
 ],
 "metadata": {
  "kernelspec": {
   "display_name": "Python 3",
   "language": "python",
   "name": "python3"
  },
  "language_info": {
   "codemirror_mode": {
    "name": "ipython",
    "version": 3
   },
   "file_extension": ".py",
   "mimetype": "text/x-python",
   "name": "python",
   "nbconvert_exporter": "python",
   "pygments_lexer": "ipython3",
   "version": "3.7.4"
  }
 },
 "nbformat": 4,
 "nbformat_minor": 2
}
