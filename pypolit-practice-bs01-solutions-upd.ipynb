{
 "cells": [
  {
   "cell_type": "markdown",
   "metadata": {},
   "source": [
    "# Основы программирования в Python \n",
    "\n",
    "*Алла Тамбовцева*\n",
    "\n",
    "## Практикум 13. Парсинг с `BeautifulSoup`: тэги и атрибуты"
   ]
  },
  {
   "cell_type": "markdown",
   "metadata": {},
   "source": [
    "Мы уже немного познакомились со структурой html-страниц и поиском информации по тэгам, теперь попробуем выгрузить информацию из более интересной страницы, а точнее, с сайта [nplus1.ru](https://nplus1.ru/). Наша задача – выгрузить недавние новости в датафрейм `pandas`, чтобы потом сохранить все в файл Excel.\n",
    "\n",
    "Для работы нам снова понадобится модуль `requests` для отправки запросов, для «подключения» к странице и получения ее содержимого в виде строки, и функция `BeautifulSoup` из библиотеки `bs4` для удобного поиска по полученной строке:"
   ]
  },
  {
   "cell_type": "code",
   "execution_count": 1,
   "metadata": {},
   "outputs": [],
   "source": [
    "import requests\n",
    "from bs4 import BeautifulSoup"
   ]
  },
  {
   "cell_type": "markdown",
   "metadata": {},
   "source": [
    "Сохраним ссылку на главную страницу в переменную `main` и отправим запрос к ней с помощью функции `get()` из `requests`:"
   ]
  },
  {
   "cell_type": "code",
   "execution_count": 2,
   "metadata": {},
   "outputs": [],
   "source": [
    "main = \"https://nplus1.ru/\"\n",
    "page = requests.get(main)"
   ]
  },
  {
   "cell_type": "markdown",
   "metadata": {},
   "source": [
    "Заберём исходный код страницы и преобразуем строку с ним в объект `BeautifulSoup`:"
   ]
  },
  {
   "cell_type": "code",
   "execution_count": 3,
   "metadata": {},
   "outputs": [],
   "source": [
    "soup = BeautifulSoup(page.text)"
   ]
  },
  {
   "cell_type": "markdown",
   "metadata": {},
   "source": [
    "Чтобы сгрузить все новости с главной страницы сайта, нужно собрать все ссылки на страницы с этими новостями. Ссылки в html-файле всегда заключены в тэг `<a></a>` и имеют атрибут `href`. Найдем кусочки кода HTML, соответствующие всем ссылкам на главной странице сайта:"
   ]
  },
  {
   "cell_type": "code",
   "execution_count": 4,
   "metadata": {},
   "outputs": [
    {
     "data": {
      "text/plain": [
       "[<a class=\"hover:underline transition-colors duration-75\" href=\"/search/empty/768\">Генетика</a>,\n",
       " <a class=\"hover:underline transition-colors duration-75\" href=\"/search/empty/890\">Математика</a>,\n",
       " <a class=\"hover:underline transition-colors duration-75\" href=\"/search/empty/871\">Космонавтика</a>,\n",
       " <a class=\"hover:underline transition-colors duration-75\" href=\"/search/empty/876\">Археология</a>,\n",
       " <a class=\"hover:underline transition-colors duration-75\" href=\"/search/empty/775\">Нейронауки</a>,\n",
       " <a class=\"hover:underline transition-colors duration-75\" href=\"/search/empty/767\">На мышах</a>,\n",
       " <a class=\"hover:underline transition-colors duration-75\" href=\"/search/empty/771\">Звук</a>,\n",
       " <a class=\"hover:underline transition-colors duration-75\" href=\"/search/empty/772\">Красота</a>,\n",
       " <a class=\"hover:underline transition-colors duration-75\" href=\"/search/empty/778\">Научные закрытия</a>,\n",
       " <a class=\"hover:underline transition-colors duration-75\" href=\"/search/empty/917\">ИИ спешит на помощь</a>]"
      ]
     },
     "execution_count": 4,
     "metadata": {},
     "output_type": "execute_result"
    }
   ],
   "source": [
    "links_raw = soup.find_all(\"a\") \n",
    "links_raw[10:20]  # несколько штук для примера"
   ]
  },
  {
   "cell_type": "markdown",
   "metadata": {},
   "source": [
    "Каждый элемент возвращаемого списка имеет тип `BeautifulSoup` и структуру, очень похожую на словарь. Например, ссылка `<a class=\"hover:underline transition-colors duration-75\" href=\"/search/empty/768\">Генетика</a>` изнутри выглядит как словарь следующего вида:\n",
    "\n",
    "    {'href' : '/search/empty/768', \n",
    "     'class' : 'hover:underline transition-colors duration-75'}.\n",
    "    \n",
    "Как мы помним, значение по ключу из словаря можно вызвать с помощью метода `.get()`. Давайте извлечем значения по ключу `href` из каждого элемента списка `links`:"
   ]
  },
  {
   "cell_type": "code",
   "execution_count": 5,
   "metadata": {},
   "outputs": [
    {
     "data": {
      "text/plain": [
       "['/search/empty/768',\n",
       " '/search/empty/890',\n",
       " '/search/empty/871',\n",
       " '/search/empty/876',\n",
       " '/search/empty/775',\n",
       " '/search/empty/767',\n",
       " '/search/empty/771',\n",
       " '/search/empty/772',\n",
       " '/search/empty/778',\n",
       " '/search/empty/917']"
      ]
     },
     "execution_count": 5,
     "metadata": {},
     "output_type": "execute_result"
    }
   ],
   "source": [
    "links = [li.get(\"href\") for li in links_raw] \n",
    "links[10:20]  # несколько штук для примера"
   ]
  },
  {
   "cell_type": "markdown",
   "metadata": {},
   "source": [
    "Ссылок в списке выше много. Но нам нужны только новости – ссылки, которые начинаются с `https://nplus1.ru/news`. Создадим пустой список `news` и будем добавлять в него только ссылки, которые удовлетворяют этому условию."
   ]
  },
  {
   "cell_type": "code",
   "execution_count": 6,
   "metadata": {},
   "outputs": [],
   "source": [
    "news = []\n",
    "for li in links:\n",
    "    if \"https://nplus1.ru/news/\" in li:\n",
    "        news.append(li)"
   ]
  },
  {
   "cell_type": "code",
   "execution_count": 7,
   "metadata": {},
   "outputs": [
    {
     "data": {
      "text/plain": [
       "['https://nplus1.ru/news/2015/09/21/editor-thy-name',\n",
       " 'https://nplus1.ru/news/2023/05/26/elephants-and-zoo-visitors',\n",
       " 'https://nplus1.ru/news/2023/05/29/roman-beirut',\n",
       " 'https://nplus1.ru/news/2023/05/29/patchouli',\n",
       " 'https://nplus1.ru/news/2023/05/27/hakuto-r-fail-soft',\n",
       " 'https://nplus1.ru/news/2023/05/27/dcm-induced-ozone-depletion',\n",
       " 'https://nplus1.ru/news/2023/05/27/deomyinae',\n",
       " 'https://nplus1.ru/news/2023/05/27/earlist-iron-age-house',\n",
       " 'https://nplus1.ru/news/2023/05/27/higgs-z-gamma',\n",
       " 'https://nplus1.ru/news/2023/05/27/leonor-of-castile']"
      ]
     },
     "execution_count": 7,
     "metadata": {},
     "output_type": "execute_result"
    }
   ],
   "source": [
    "news[0:10]"
   ]
  },
  {
   "cell_type": "markdown",
   "metadata": {},
   "source": [
    "Первая ссылка ведет не совсем на новость, скорее, на объявление, поэтому давайте ее уберем:"
   ]
  },
  {
   "cell_type": "code",
   "execution_count": 8,
   "metadata": {},
   "outputs": [],
   "source": [
    "news = news[1:] "
   ]
  },
  {
   "cell_type": "markdown",
   "metadata": {},
   "source": [
    "Теперь наша задача сводится к следующему: изучить одну страницу с новостью, научиться из нее вытаскивать текст и всю необходимую информацию, а потом применить весь набор действий к каждой ссылке из `news` в цикле. Посмотрим на новость с индексом 0, у вас может быть другая, новости обновляются."
   ]
  },
  {
   "cell_type": "code",
   "execution_count": 9,
   "metadata": {},
   "outputs": [
    {
     "name": "stdout",
     "output_type": "stream",
     "text": [
      "https://nplus1.ru/news/2023/05/26/elephants-and-zoo-visitors\n"
     ]
    }
   ],
   "source": [
    "link0 = news[0]\n",
    "print(link0)"
   ]
  },
  {
   "cell_type": "markdown",
   "metadata": {},
   "source": [
    "### Задача 1\n",
    "\n",
    "Отправьте запрос к странице по ссылке `link0` с одной новостью, получите результат в виде объекта `BeautifulSoup` и сохраните его как `soup0`."
   ]
  },
  {
   "cell_type": "code",
   "execution_count": 10,
   "metadata": {},
   "outputs": [],
   "source": [
    "page0 = requests.get(link0)\n",
    "soup0 = BeautifulSoup(page0.text)"
   ]
  },
  {
   "cell_type": "markdown",
   "metadata": {},
   "source": [
    "### Задача 2\n",
    "\n",
    "Найдите заголовок новости и сохраните его в переменную `title`."
   ]
  },
  {
   "cell_type": "code",
   "execution_count": 11,
   "metadata": {},
   "outputs": [],
   "source": [
    "title = soup0.find(\"title\").text"
   ]
  },
  {
   "cell_type": "markdown",
   "metadata": {},
   "source": [
    "### Задача 3\n",
    "\n",
    "Найдите имя автора новости и дату её публикации. Сохраните их в `author` и `date` соответственно."
   ]
  },
  {
   "cell_type": "code",
   "execution_count": 12,
   "metadata": {},
   "outputs": [
    {
     "name": "stdout",
     "output_type": "stream",
     "text": [
      "2023-05-26 Екатерина Рощина\n"
     ]
    }
   ],
   "source": [
    "date = soup0.find(\"meta\", {\"itemprop\" : \"datePublished\"}).get(\"content\") \n",
    "author = soup0.find(\"meta\", {\"name\" : \"author\"}).get(\"content\") \n",
    "print(date, author)"
   ]
  },
  {
   "cell_type": "markdown",
   "metadata": {},
   "source": [
    "### Задача 4\n",
    "\n",
    "Найдите сложность новости и рубрики, к которым она относится. Сохраните сложность в переменную `diffc`. Рубрики сначала можно сохранить в список, а затем его элементы объединить в одну строку `rubs`.\n",
    "\n",
    "**Подсказка:** чтобы упростить себе жизнь, найдите сначала раздел (`div`), в котором на странице хранится дата и время публикации, сложность и рубрики, а затем выполняйте поиск в рамках этого раздела."
   ]
  },
  {
   "cell_type": "code",
   "execution_count": 14,
   "metadata": {},
   "outputs": [
    {
     "name": "stdout",
     "output_type": "stream",
     "text": [
      "Зоология, Психология\n"
     ]
    }
   ],
   "source": [
    "div = soup0.find(\"div\", \n",
    "                 {\"class\" : \"flex flex-wrap lg:mb-10 gap-2 text-tags xl:pr-9\"})\n",
    "diffc = div.find_all(\"span\")[3].text\n",
    "rubs_raw = div.find_all(\"span\")[4:] \n",
    "rubs_L = [r.text for r in rubs_raw] \n",
    "rubs = \", \".join(rubs_L)\n",
    "print(rubs)"
   ]
  },
  {
   "cell_type": "markdown",
   "metadata": {},
   "source": [
    "### Задача 5\n",
    "\n",
    "Соберите из абзацев текст новости и сохраните его в переменную `text`. Избавьтесь от постронних символов (`\\xa0`, `\\n`) в тексте. "
   ]
  },
  {
   "cell_type": "code",
   "execution_count": 15,
   "metadata": {},
   "outputs": [
    {
     "name": "stdout",
     "output_type": "stream",
     "text": [
      "А вот амфибии не в восторге Чаще всего животные в зоопарках относятся к посетителям нейтрально: присутствие или отсутствие гостей не меняет привычного поведения животных или их физиологических показателей. Однако некоторым везет больше — например, слоны лучше всего реагируют на людей и не испытывают их отрицательного влияния. А вот амфибии в этом вопросе — на другом полюсе. К таким выводам пришли ученые, которые проанализировали 105 научных исследований, посвященных влиянию посетителей зоопарка на их обитателей (исключая приматов). Исследование опубликовано в журнале Animals. Посетители зоопарка по-разному влияют на его обитателей. Наличие или отсутствие людей, расстояние, на которое они приближаются к животным, их поведение, создаваемый шум, форма взаимодействия с животными и даже исходящие от них запахи могут быть источником стресса для животных. В ответ на такой стресс меняются реакции животных, например, они становятся менее активны, чаще избегают встречи с посетителями, а сотрудники зоопарков находят своих подопечных более бдительными, настороженными и отмечают у них больше стереотипных действий/реакций.  С другой стороны, посетители могут и положительно влиять на обитателей зоопарков. Тогда животные проявляют повышенный интерес к посетителям и к зонам для посетителей, привлекают к себе внимание гостей зоопарка и даже приближаются к ним. И, наконец, присутствие или отсутствие посетителей может никак не сказываться на животных: поведение или физиологические показатели питомцев зоопарка (например, частота дыхания и сердечных сокращений, уровень кортизола — гормона стресса) не изменяются. Такое разное влияние гостей зоопарка на его обитателей называют эффектом посетителя. Лучше всего исследовано влияние посетителей на приматов, которые испытывают на себе, как положительные, так и отрицательные эффекты от встреч и взаимодействия с гостями зоопарков. Приматы активны, а их поведение разнообразно, поэтому внимание посетителей часто направлено на них. Такие особенности и высокий интерес людей к этим обитателям зоопарков и стали причинами, по которым эффект посетителя наиболее изучен для приматов. Однако Эллен Уильямс (Ellen Williams) из Университета Харпера Адамса и ее коллеги показали, что начиная с 1992 года появляются исследования эффекта посетителя для видов, которые не относятся к приматам. Особенно много таких публикаций авторы отметили в 2021 году, когда было выпущено 24 статьи. Чтобы выяснить это, ученые с помощью статистических методовпроанализировали 105 исследований эффекта посетителей для 252 видов животных, ни один из которых не относился к приматам. Большинство исследованных видов были млекопитающими (56 процентов), 28 процентов — птицами, 1 — беспозвоночными, 4 — рыбами, 9 процентов — рептилиями и 2 — земноводным. Что интересно, если первые в этом контексте работы о млекопитающих не из отряда приматов появились в 1992 году, то первая статья о птицах вышла в 2008 году, а первое упоминание беспозвоночных относится только к 2019 году, амфибий, рептилий и рыб — 2020-2021 годам. Во всех исследовательских работах было 302 интерпретации влияния посетителей. Из них 53 процента интерпретаций были нейтральными, 21 — отрицательными и только 4 — положительными. Оказалось, что лучше всего фактор посетителей сказывается на слонах. В исследованиях с этими животными чаще отмечался положительный эффект посетителя (p< 0,0002) и не отмечался отрицательный. Как предполагают авторы, отсутствие отрицательных реакций у слонов может быть связано с их размерами, по аналогии с обезьянами, среди которых негативно чаще реагировали те, которые по размеру меньше человека. Или же, возможно, что дело в особенностях содержания: как опасных животных, слонов необходимо держать в безопасности и на расстоянии от публики, что могло способствовать снижению негативного воздействия людей на реакции слонов в зоопарках (но не стоит торопиться в вольеры к этим животным, так как авторы предупреждают, что исследований со слонами мало, и все результаты очень предварительны.) Среди млекопитающих (исключая приматов) чаще негативно реагировали непарнокопытные и парнокопытные, сумчатые и ежи. Хотя и хищники, например, львы, тигры, леопарды и сурикаты, наряду с нейтральным и положительным откликом на посетителей, испытывали и отрицательное влияние.  Попугаи, которые сами хотят взаимодействовать с людьми, как и слоны, часто имели положительный опыт (p < 0,0002), но и отрицательный — тоже. При этом в целом птицы чаще всего реагировали на посетителей нейтрально, рыбы — нейтрально, амфибии — отрицательно (p < 0,05). В основном критериями оценки эффекта посетителя были изменения в поведении животных: в 95 исследованиях из 105 оценивалось именно оно. Например, в исследованиях отслеживались активность животного или бездействие, характер передвижений, близость к сородичам, близость к посетителям, позитивные социальные взаимодействия, поведение в состоянии покоя, стереотипное или нормальное поведение и бдительность. Также оценивались и физиологические сдвиги — в 26 исследованиях, и физические изменения — в одном исследовании. Поведенческие, физические и физиологические измерения использовались в отношении млекопитающих, поведенческие и физиологические — в отношении птиц. Для рептилий, амфибий, рыб и беспозвоночных использовались только поведенческие наблюдения. Авторы этой работы делают достаточно обобщенные выводы, однако отмечают, что есть и индивидуальные особенности, благодаря которым каждое отдельное животное по-разному переживает опыт взаимодействия с людьми. И о такой разнице сообщали и другие исследователи. Например, слониха Пха из Берлинского зоопарка научилась чистить бананы, когда ее сородичи продолжали есть с кожурой. Вероятно, эта адаптация помогает им спасаться от хищников \n"
     ]
    }
   ],
   "source": [
    "pars_raw = soup0.find_all(\"p\", {\"class\" : \"mb-6\"}) \n",
    "pars = [p.text for p in pars_raw] \n",
    "text = \" \".join(pars)\n",
    "text = text.replace(\"\\xa0\", \" \").replace(\"\\n\", \" \")\n",
    "print(text)"
   ]
  },
  {
   "cell_type": "markdown",
   "metadata": {},
   "source": [
    "### Задача 6\n",
    "\n",
    "Напишите функцию `get_news()`, которая принимает на вход ссылку на страницу с одной новостью, а возвращает список из следующих характеристик: имя автора, дата публикации, сложность новости, рубрики, текст новости."
   ]
  },
  {
   "cell_type": "code",
   "execution_count": 17,
   "metadata": {},
   "outputs": [],
   "source": [
    "def get_news(link0):\n",
    "\n",
    "    page0 = requests.get(link0)\n",
    "    soup0 = BeautifulSoup(page0.text)\n",
    "    title = soup0.find(\"title\").text\n",
    "    date = soup0.find(\"meta\", {\"itemprop\" : \"datePublished\"}).get(\"content\") \n",
    "    author = soup0.find(\"meta\", {\"name\" : \"author\"}).get(\"content\") \n",
    "    div = soup0.find(\"div\", \n",
    "                 {\"class\" : \"flex flex-wrap lg:mb-10 gap-2 text-tags xl:pr-9\"})\n",
    "    diffc = div.find_all(\"span\")[3].text\n",
    "    rubs_raw = div.find_all(\"span\")[4:] \n",
    "    rubs_L = [r.text for r in rubs_raw] \n",
    "    rubs = \", \".join(rubs_L)\n",
    "    pars_raw = soup0.find_all(\"p\", {\"class\" : \"mb-6\"}) \n",
    "    pars = [p.text for p in pars_raw] \n",
    "    text = \" \".join(pars)\n",
    "    text = text.replace(\"\\xa0\", \" \").replace(\"\\n\", \" \")\n",
    "    \n",
    "    return [title, author, date, diffc, rubs, text]"
   ]
  },
  {
   "cell_type": "markdown",
   "metadata": {},
   "source": [
    "Отлично! Теперь осталось применить функцию ко всем ссылкам в списке `news`. Чтобы сайт не понял, что мы его автоматически грабим, будем выгружать новости постепенно – с задержкой в 1.5 секунды. Импортируем для этого функцию `sleep` :"
   ]
  },
  {
   "cell_type": "code",
   "execution_count": 18,
   "metadata": {},
   "outputs": [],
   "source": [
    "from time import sleep"
   ]
  },
  {
   "cell_type": "markdown",
   "metadata": {},
   "source": [
    "Теперь будем применять функцию в цикле к каждой ссылке в `news`, только с одним дополнением – добавленной конструкцией `try-except`, которая позволит продолжать исполнение цикла, если при применении функции Python столкнулся с ошибкой любого вида:"
   ]
  },
  {
   "cell_type": "code",
   "execution_count": 19,
   "metadata": {},
   "outputs": [
    {
     "name": "stdout",
     "output_type": "stream",
     "text": [
      "https://nplus1.ru/news/2023/05/26/elephants-and-zoo-visitors\n",
      "https://nplus1.ru/news/2023/05/29/roman-beirut\n",
      "https://nplus1.ru/news/2023/05/29/patchouli\n",
      "https://nplus1.ru/news/2023/05/27/hakuto-r-fail-soft\n",
      "https://nplus1.ru/news/2023/05/27/dcm-induced-ozone-depletion\n",
      "https://nplus1.ru/news/2023/05/27/deomyinae\n",
      "https://nplus1.ru/news/2023/05/27/earlist-iron-age-house\n",
      "https://nplus1.ru/news/2023/05/27/higgs-z-gamma\n",
      "https://nplus1.ru/news/2023/05/27/leonor-of-castile\n",
      "https://nplus1.ru/news/2023/05/26/virgin-orbit-end\n",
      "https://nplus1.ru/news/2023/05/26/hyperleg\n",
      "https://nplus1.ru/news/2023/05/26/fingerprints-brutforce\n",
      "Something went wrong\n",
      "https://nplus1.ru/news/2023/05/26/menses-cardiovascular\n",
      "https://nplus1.ru/news/2023/05/26/fda-approves-neuralink\n",
      "https://nplus1.ru/news/2023/05/26/giardia-duodenalis\n",
      "https://nplus1.ru/news/2023/05/26/vss-unity-25\n",
      "https://nplus1.ru/news/2023/05/26/open-rings\n",
      "https://nplus1.ru/news/2023/05/26/macrocheilia-and-crohns-disease\n",
      "https://nplus1.ru/news/2023/05/26/finicky-gulls\n",
      "https://nplus1.ru/news/2023/05/25/torpor-like-state-by-ultrasound\n",
      "https://nplus1.ru/news/2023/05/25/bettongia-penicillata\n",
      "https://nplus1.ru/news/2023/05/25/ltpa-cpt\n",
      "https://nplus1.ru/news/2023/05/25/la-ferrassie\n",
      "https://nplus1.ru/news/2023/05/25/4000-languages-recognition\n",
      "https://nplus1.ru/news/2023/05/25/gamma-linolenic-acid-in-maternal-milk\n",
      "https://nplus1.ru/news/2023/05/25/take-a-deep-breath\n",
      "https://nplus1.ru/news/2023/05/24/therouanne\n",
      "https://nplus1.ru/news/2023/05/24/walk-again\n",
      "https://nplus1.ru/news/2023/05/24/drag-gan\n",
      "https://nplus1.ru/news/2023/05/24/ancient-saddles\n",
      "https://nplus1.ru/news/2023/05/24/photon-counting-ct\n",
      "https://nplus1.ru/news/2023/05/24/earlist-wine-in-america\n",
      "https://nplus1.ru/news/2023/05/23/alps-ii\n",
      "https://nplus1.ru/news/2023/05/23/mars-oceans\n",
      "https://nplus1.ru/news/2023/05/23/inostrancevia-africana\n",
      "https://nplus1.ru/news/2023/05/23/soft-electromotor\n",
      "https://nplus1.ru/news/2023/05/23/pandax\n",
      "https://nplus1.ru/news/2023/05/23/uropterygius-cyamommatus\n",
      "https://nplus1.ru/news/2023/05/09/flint-dagger\n",
      "https://nplus1.ru/news/2023/05/19/human-origins\n",
      "https://nplus1.ru/news/2023/05/27/leonor-of-castile\n",
      "https://nplus1.ru/news/2023/05/06/musth\n",
      "https://nplus1.ru/news/2023/05/08/china-cosmoplane-returns\n",
      "https://nplus1.ru/news/2023/05/19/ancient-hearth\n",
      "https://nplus1.ru/news/2020/06/01/gray-hair\n",
      "https://nplus1.ru/news/2023/05/09/neolithic-road\n",
      "https://nplus1.ru/news/2023/05/16/you-are-cursed\n",
      "https://nplus1.ru/news/2023/05/15/fossil-footprints\n",
      "https://nplus1.ru/news/2023/05/17/ain-hanech\n",
      "https://nplus1.ru/news/2023/05/20/inscultura\n",
      "https://nplus1.ru/news/2023/05/11/kosmoplan-subsputnik\n",
      "https://nplus1.ru/news/2023/05/22/petroglyphs-from-sweden\n",
      "https://nplus1.ru/news/2023/05/11/pangenome-is-here\n",
      "https://nplus1.ru/news/2023/05/18/alisa-yandex-gpt\n",
      "https://nplus1.ru/news/2023/04/25/elite-chariots\n",
      "https://nplus1.ru/news/2023/05/05/uranus-oceans\n",
      "https://nplus1.ru/news/2023/05/26/open-rings\n",
      "https://nplus1.ru/news/2023/05/11/pangenome-is-here\n",
      "https://nplus1.ru/news/2023/05/11/loophole-free-bell-inequality\n",
      "https://nplus1.ru/news/2023/05/13/no-hidden-bosons\n",
      "https://nplus1.ru/news/2023/05/13/talbot-carpet-helped\n",
      "https://nplus1.ru/news/2023/05/15/no-rtsc\n",
      "https://nplus1.ru/news/2023/05/16/non-abelian-anyons\n",
      "https://nplus1.ru/news/2023/05/16/at-2021-iwx\n",
      "https://nplus1.ru/news/2023/05/17/got-poison-get-remedy\n",
      "https://nplus1.ru/news/2023/05/22/free-boundary\n",
      "https://nplus1.ru/news/2023/05/22/ocean-currents-forecast\n",
      "https://nplus1.ru/news/2023/05/23/pandax\n",
      "https://nplus1.ru/news/2023/05/25/gamma-linolenic-acid-in-maternal-milk\n",
      "https://nplus1.ru/news/2023/05/26/fingerprints-brutforce\n",
      "https://nplus1.ru/news/2023/05/27/higgs-z-gamma\n"
     ]
    }
   ],
   "source": [
    "info = []\n",
    "for n in news:\n",
    "    # пробуй исполнить следующий код\n",
    "    try:\n",
    "        res = get_news(n)\n",
    "        info.append(res)\n",
    "        print(n)\n",
    "    # если он вызвал ошибку, печатай сообщение и иди дальше\n",
    "    except:\n",
    "        print(\"Something went wrong\")\n",
    "        print(n)\n",
    "    sleep(1.2)"
   ]
  },
  {
   "cell_type": "markdown",
   "metadata": {},
   "source": [
    "Посмотрим на несколько элементов `info`:"
   ]
  },
  {
   "cell_type": "code",
   "execution_count": 21,
   "metadata": {},
   "outputs": [],
   "source": [
    "info[10:12]"
   ]
  },
  {
   "cell_type": "markdown",
   "metadata": {},
   "source": [
    "Финальный штрих – импортируем `pandas` и преобразуемый полученный список кортежей в датафрейм:"
   ]
  },
  {
   "cell_type": "code",
   "execution_count": 22,
   "metadata": {},
   "outputs": [],
   "source": [
    "import pandas as pd"
   ]
  },
  {
   "cell_type": "code",
   "execution_count": 23,
   "metadata": {},
   "outputs": [
    {
     "data": {
      "text/html": [
       "<div>\n",
       "<style scoped>\n",
       "    .dataframe tbody tr th:only-of-type {\n",
       "        vertical-align: middle;\n",
       "    }\n",
       "\n",
       "    .dataframe tbody tr th {\n",
       "        vertical-align: top;\n",
       "    }\n",
       "\n",
       "    .dataframe thead th {\n",
       "        text-align: right;\n",
       "    }\n",
       "</style>\n",
       "<table border=\"1\" class=\"dataframe\">\n",
       "  <thead>\n",
       "    <tr style=\"text-align: right;\">\n",
       "      <th></th>\n",
       "      <th>0</th>\n",
       "      <th>1</th>\n",
       "      <th>2</th>\n",
       "      <th>3</th>\n",
       "      <th>4</th>\n",
       "      <th>5</th>\n",
       "    </tr>\n",
       "  </thead>\n",
       "  <tbody>\n",
       "    <tr>\n",
       "      <th>0</th>\n",
       "      <td>Слоны обрадовались посетителям зоопарков</td>\n",
       "      <td>Екатерина Рощина</td>\n",
       "      <td>2023-05-26</td>\n",
       "      <td>1.5</td>\n",
       "      <td>Зоология, Психология</td>\n",
       "      <td>А вот амфибии не в восторге Чаще всего животны...</td>\n",
       "    </tr>\n",
       "    <tr>\n",
       "      <th>1</th>\n",
       "      <td>В древнеримских некрополях Бейрута нашли остан...</td>\n",
       "      <td>Михаил Подрезов</td>\n",
       "      <td>2023-05-29</td>\n",
       "      <td>3.1</td>\n",
       "      <td>Антропология, Археология</td>\n",
       "      <td>Как минимум два из 19 изученных людей происход...</td>\n",
       "    </tr>\n",
       "    <tr>\n",
       "      <th>2</th>\n",
       "      <td>В древнеримском унгвентарии обнаружили остатки...</td>\n",
       "      <td>Михаил Подрезов</td>\n",
       "      <td>2023-05-29</td>\n",
       "      <td>2.9</td>\n",
       "      <td>Археология, Химия</td>\n",
       "      <td>Небольшой сосуд с парфюмом лежал в погребально...</td>\n",
       "    </tr>\n",
       "    <tr>\n",
       "      <th>3</th>\n",
       "      <td>Причиной крушения японского лунного модуля Hak...</td>\n",
       "      <td>Александр Войтюк</td>\n",
       "      <td>2023-05-27</td>\n",
       "      <td>1.9</td>\n",
       "      <td>Космонавтика</td>\n",
       "      <td>Зонд LRO нашел место его падения на Луну Частн...</td>\n",
       "    </tr>\n",
       "    <tr>\n",
       "      <th>4</th>\n",
       "      <td>Сокращение выбросов дихлорметана поможет сохра...</td>\n",
       "      <td>Михаил Бойм</td>\n",
       "      <td>2023-05-27</td>\n",
       "      <td>2.4</td>\n",
       "      <td>Экология и климат, Химия</td>\n",
       "      <td>Дихлорметан используют для изготовления кофе б...</td>\n",
       "    </tr>\n",
       "  </tbody>\n",
       "</table>\n",
       "</div>"
      ],
      "text/plain": [
       "                                                   0                 1  \\\n",
       "0           Слоны обрадовались посетителям зоопарков  Екатерина Рощина   \n",
       "1  В древнеримских некрополях Бейрута нашли остан...   Михаил Подрезов   \n",
       "2  В древнеримском унгвентарии обнаружили остатки...   Михаил Подрезов   \n",
       "3  Причиной крушения японского лунного модуля Hak...  Александр Войтюк   \n",
       "4  Сокращение выбросов дихлорметана поможет сохра...       Михаил Бойм   \n",
       "\n",
       "            2    3                         4  \\\n",
       "0  2023-05-26  1.5      Зоология, Психология   \n",
       "1  2023-05-29  3.1  Антропология, Археология   \n",
       "2  2023-05-29  2.9         Археология, Химия   \n",
       "3  2023-05-27  1.9              Космонавтика   \n",
       "4  2023-05-27  2.4  Экология и климат, Химия   \n",
       "\n",
       "                                                   5  \n",
       "0  А вот амфибии не в восторге Чаще всего животны...  \n",
       "1  Как минимум два из 19 изученных людей происход...  \n",
       "2  Небольшой сосуд с парфюмом лежал в погребально...  \n",
       "3  Зонд LRO нашел место его падения на Луну Частн...  \n",
       "4  Дихлорметан используют для изготовления кофе б...  "
      ]
     },
     "execution_count": 23,
     "metadata": {},
     "output_type": "execute_result"
    }
   ],
   "source": [
    "df = pd.DataFrame(info)\n",
    "df.head()"
   ]
  },
  {
   "cell_type": "markdown",
   "metadata": {},
   "source": [
    "Добавим содержательные названия столбцов и выгрузим датафрейм в файл:"
   ]
  },
  {
   "cell_type": "code",
   "execution_count": 25,
   "metadata": {},
   "outputs": [
    {
     "data": {
      "text/html": [
       "<div>\n",
       "<style scoped>\n",
       "    .dataframe tbody tr th:only-of-type {\n",
       "        vertical-align: middle;\n",
       "    }\n",
       "\n",
       "    .dataframe tbody tr th {\n",
       "        vertical-align: top;\n",
       "    }\n",
       "\n",
       "    .dataframe thead th {\n",
       "        text-align: right;\n",
       "    }\n",
       "</style>\n",
       "<table border=\"1\" class=\"dataframe\">\n",
       "  <thead>\n",
       "    <tr style=\"text-align: right;\">\n",
       "      <th></th>\n",
       "      <th>title</th>\n",
       "      <th>author</th>\n",
       "      <th>date</th>\n",
       "      <th>diffc</th>\n",
       "      <th>rubrics</th>\n",
       "      <th>text</th>\n",
       "    </tr>\n",
       "  </thead>\n",
       "  <tbody>\n",
       "    <tr>\n",
       "      <th>0</th>\n",
       "      <td>Слоны обрадовались посетителям зоопарков</td>\n",
       "      <td>Екатерина Рощина</td>\n",
       "      <td>2023-05-26</td>\n",
       "      <td>1.5</td>\n",
       "      <td>Зоология, Психология</td>\n",
       "      <td>А вот амфибии не в восторге Чаще всего животны...</td>\n",
       "    </tr>\n",
       "    <tr>\n",
       "      <th>1</th>\n",
       "      <td>В древнеримских некрополях Бейрута нашли остан...</td>\n",
       "      <td>Михаил Подрезов</td>\n",
       "      <td>2023-05-29</td>\n",
       "      <td>3.1</td>\n",
       "      <td>Антропология, Археология</td>\n",
       "      <td>Как минимум два из 19 изученных людей происход...</td>\n",
       "    </tr>\n",
       "    <tr>\n",
       "      <th>2</th>\n",
       "      <td>В древнеримском унгвентарии обнаружили остатки...</td>\n",
       "      <td>Михаил Подрезов</td>\n",
       "      <td>2023-05-29</td>\n",
       "      <td>2.9</td>\n",
       "      <td>Археология, Химия</td>\n",
       "      <td>Небольшой сосуд с парфюмом лежал в погребально...</td>\n",
       "    </tr>\n",
       "    <tr>\n",
       "      <th>3</th>\n",
       "      <td>Причиной крушения японского лунного модуля Hak...</td>\n",
       "      <td>Александр Войтюк</td>\n",
       "      <td>2023-05-27</td>\n",
       "      <td>1.9</td>\n",
       "      <td>Космонавтика</td>\n",
       "      <td>Зонд LRO нашел место его падения на Луну Частн...</td>\n",
       "    </tr>\n",
       "    <tr>\n",
       "      <th>4</th>\n",
       "      <td>Сокращение выбросов дихлорметана поможет сохра...</td>\n",
       "      <td>Михаил Бойм</td>\n",
       "      <td>2023-05-27</td>\n",
       "      <td>2.4</td>\n",
       "      <td>Экология и климат, Химия</td>\n",
       "      <td>Дихлорметан используют для изготовления кофе б...</td>\n",
       "    </tr>\n",
       "  </tbody>\n",
       "</table>\n",
       "</div>"
      ],
      "text/plain": [
       "                                               title            author  \\\n",
       "0           Слоны обрадовались посетителям зоопарков  Екатерина Рощина   \n",
       "1  В древнеримских некрополях Бейрута нашли остан...   Михаил Подрезов   \n",
       "2  В древнеримском унгвентарии обнаружили остатки...   Михаил Подрезов   \n",
       "3  Причиной крушения японского лунного модуля Hak...  Александр Войтюк   \n",
       "4  Сокращение выбросов дихлорметана поможет сохра...       Михаил Бойм   \n",
       "\n",
       "         date diffc                   rubrics  \\\n",
       "0  2023-05-26   1.5      Зоология, Психология   \n",
       "1  2023-05-29   3.1  Антропология, Археология   \n",
       "2  2023-05-29   2.9         Археология, Химия   \n",
       "3  2023-05-27   1.9              Космонавтика   \n",
       "4  2023-05-27   2.4  Экология и климат, Химия   \n",
       "\n",
       "                                                text  \n",
       "0  А вот амфибии не в восторге Чаще всего животны...  \n",
       "1  Как минимум два из 19 изученных людей происход...  \n",
       "2  Небольшой сосуд с парфюмом лежал в погребально...  \n",
       "3  Зонд LRO нашел место его падения на Луну Частн...  \n",
       "4  Дихлорметан используют для изготовления кофе б...  "
      ]
     },
     "execution_count": 25,
     "metadata": {},
     "output_type": "execute_result"
    }
   ],
   "source": [
    "df.columns = [\"title\", \"author\", \"date\", \"diffc\", \"rubrics\", \"text\"]\n",
    "df.head()"
   ]
  },
  {
   "cell_type": "markdown",
   "metadata": {},
   "source": [
    "**Дополнение.** Исправим тип столбца со сложностью новости – сделаем его типом `float`, чтобы с элементами можно было работать как с числами."
   ]
  },
  {
   "cell_type": "code",
   "execution_count": 26,
   "metadata": {},
   "outputs": [],
   "source": [
    "df[\"diffc\"] = df[\"diffc\"].astype(float)"
   ]
  },
  {
   "cell_type": "markdown",
   "metadata": {},
   "source": [
    "Раз сделали столбец числовым, значит, его можно использовать для сортировки! Отсортируем строки в датафрейме от самой сложной новости к самой простой:"
   ]
  },
  {
   "cell_type": "code",
   "execution_count": 27,
   "metadata": {},
   "outputs": [
    {
     "data": {
      "text/html": [
       "<div>\n",
       "<style scoped>\n",
       "    .dataframe tbody tr th:only-of-type {\n",
       "        vertical-align: middle;\n",
       "    }\n",
       "\n",
       "    .dataframe tbody tr th {\n",
       "        vertical-align: top;\n",
       "    }\n",
       "\n",
       "    .dataframe thead th {\n",
       "        text-align: right;\n",
       "    }\n",
       "</style>\n",
       "<table border=\"1\" class=\"dataframe\">\n",
       "  <thead>\n",
       "    <tr style=\"text-align: right;\">\n",
       "      <th></th>\n",
       "      <th>title</th>\n",
       "      <th>author</th>\n",
       "      <th>date</th>\n",
       "      <th>diffc</th>\n",
       "      <th>rubrics</th>\n",
       "      <th>text</th>\n",
       "    </tr>\n",
       "  </thead>\n",
       "  <tbody>\n",
       "    <tr>\n",
       "      <th>61</th>\n",
       "      <td>Две группы физиков смоделировали неабелевы эни...</td>\n",
       "      <td>Марат Хамадеев</td>\n",
       "      <td>2023-05-16</td>\n",
       "      <td>9.3</td>\n",
       "      <td>Физика</td>\n",
       "      <td>Один компьютер — на сверхпроводящих контурах, ...</td>\n",
       "    </tr>\n",
       "    <tr>\n",
       "      <th>57</th>\n",
       "      <td>Неравенства Белла без лазеек проверили на свер...</td>\n",
       "      <td>Марат Хамадеев</td>\n",
       "      <td>2023-05-11</td>\n",
       "      <td>7.8</td>\n",
       "      <td>Физика</td>\n",
       "      <td>Для этого их разнесли более чем на 30 метров Ф...</td>\n",
       "    </tr>\n",
       "    <tr>\n",
       "      <th>58</th>\n",
       "      <td>В распадах тау-лептонов не нашли темных бозонов</td>\n",
       "      <td>Марат Хамадеев</td>\n",
       "      <td>2023-05-13</td>\n",
       "      <td>7.6</td>\n",
       "      <td>Физика</td>\n",
       "      <td>Результат получила коллаборация Belle II Выход...</td>\n",
       "    </tr>\n",
       "    <tr>\n",
       "      <th>64</th>\n",
       "      <td>Аккреционный диск черной дыры воссоздали без с...</td>\n",
       "      <td>Марат Хамадеев</td>\n",
       "      <td>2023-05-22</td>\n",
       "      <td>6.9</td>\n",
       "      <td>Физика, Астрономия</td>\n",
       "      <td>Для этого физики косо сталкивали восемь плазме...</td>\n",
       "    </tr>\n",
       "    <tr>\n",
       "      <th>59</th>\n",
       "      <td>«Ковер» Тальбота помог упорядоченно пленить де...</td>\n",
       "      <td>Марат Хамадеев</td>\n",
       "      <td>2023-05-13</td>\n",
       "      <td>6.8</td>\n",
       "      <td>Физика</td>\n",
       "      <td>В будущем это позволит проводить масштабные кв...</td>\n",
       "    </tr>\n",
       "    <tr>\n",
       "      <th>...</th>\n",
       "      <td>...</td>\n",
       "      <td>...</td>\n",
       "      <td>...</td>\n",
       "      <td>...</td>\n",
       "      <td>...</td>\n",
       "      <td>...</td>\n",
       "    </tr>\n",
       "    <tr>\n",
       "      <th>44</th>\n",
       "      <td>На дне Адриатического моря нашли 6900-летнюю д...</td>\n",
       "      <td>Михаил Подрезов</td>\n",
       "      <td>2023-05-09</td>\n",
       "      <td>1.3</td>\n",
       "      <td>Археология</td>\n",
       "      <td>В эпоху неолита она соединяла поселение и остр...</td>\n",
       "    </tr>\n",
       "    <tr>\n",
       "      <th>6</th>\n",
       "      <td>В Аттике впервые раскопали остатки дома X-IX в...</td>\n",
       "      <td>Михаил Подрезов</td>\n",
       "      <td>2023-05-27</td>\n",
       "      <td>1.2</td>\n",
       "      <td>Археология</td>\n",
       "      <td>Его нашли примерно в 60 километрах от Афин Арх...</td>\n",
       "    </tr>\n",
       "    <tr>\n",
       "      <th>50</th>\n",
       "      <td>В Швеции обнаружили двухметровое наскальное из...</td>\n",
       "      <td>Михаил Подрезов</td>\n",
       "      <td>2023-05-22</td>\n",
       "      <td>1.1</td>\n",
       "      <td>Археология</td>\n",
       "      <td>В общей сложности археологи открыли около 40 д...</td>\n",
       "    </tr>\n",
       "    <tr>\n",
       "      <th>48</th>\n",
       "      <td>В древнеримском форте нашли рельеф с изображен...</td>\n",
       "      <td>Михаил Подрезов</td>\n",
       "      <td>2023-05-20</td>\n",
       "      <td>1.1</td>\n",
       "      <td>Археология</td>\n",
       "      <td>Третья фигура в этой композиции — рог изобилия...</td>\n",
       "    </tr>\n",
       "    <tr>\n",
       "      <th>37</th>\n",
       "      <td>Восьмилетняя норвежка обнаружила кремневый кин...</td>\n",
       "      <td>Михаил Подрезов</td>\n",
       "      <td>2023-05-09</td>\n",
       "      <td>1.1</td>\n",
       "      <td>Археология</td>\n",
       "      <td>Возраст находки больше 3700 лет Восьмилетняя н...</td>\n",
       "    </tr>\n",
       "  </tbody>\n",
       "</table>\n",
       "<p>70 rows × 6 columns</p>\n",
       "</div>"
      ],
      "text/plain": [
       "                                                title           author  \\\n",
       "61  Две группы физиков смоделировали неабелевы эни...   Марат Хамадеев   \n",
       "57  Неравенства Белла без лазеек проверили на свер...   Марат Хамадеев   \n",
       "58    В распадах тау-лептонов не нашли темных бозонов   Марат Хамадеев   \n",
       "64  Аккреционный диск черной дыры воссоздали без с...   Марат Хамадеев   \n",
       "59  «Ковер» Тальбота помог упорядоченно пленить де...   Марат Хамадеев   \n",
       "..                                                ...              ...   \n",
       "44  На дне Адриатического моря нашли 6900-летнюю д...  Михаил Подрезов   \n",
       "6   В Аттике впервые раскопали остатки дома X-IX в...  Михаил Подрезов   \n",
       "50  В Швеции обнаружили двухметровое наскальное из...  Михаил Подрезов   \n",
       "48  В древнеримском форте нашли рельеф с изображен...  Михаил Подрезов   \n",
       "37  Восьмилетняя норвежка обнаружила кремневый кин...  Михаил Подрезов   \n",
       "\n",
       "          date  diffc             rubrics  \\\n",
       "61  2023-05-16    9.3              Физика   \n",
       "57  2023-05-11    7.8              Физика   \n",
       "58  2023-05-13    7.6              Физика   \n",
       "64  2023-05-22    6.9  Физика, Астрономия   \n",
       "59  2023-05-13    6.8              Физика   \n",
       "..         ...    ...                 ...   \n",
       "44  2023-05-09    1.3          Археология   \n",
       "6   2023-05-27    1.2          Археология   \n",
       "50  2023-05-22    1.1          Археология   \n",
       "48  2023-05-20    1.1          Археология   \n",
       "37  2023-05-09    1.1          Археология   \n",
       "\n",
       "                                                 text  \n",
       "61  Один компьютер — на сверхпроводящих контурах, ...  \n",
       "57  Для этого их разнесли более чем на 30 метров Ф...  \n",
       "58  Результат получила коллаборация Belle II Выход...  \n",
       "64  Для этого физики косо сталкивали восемь плазме...  \n",
       "59  В будущем это позволит проводить масштабные кв...  \n",
       "..                                                ...  \n",
       "44  В эпоху неолита она соединяла поселение и остр...  \n",
       "6   Его нашли примерно в 60 километрах от Афин Арх...  \n",
       "50  В общей сложности археологи открыли около 40 д...  \n",
       "48  Третья фигура в этой композиции — рог изобилия...  \n",
       "37  Возраст находки больше 3700 лет Восьмилетняя н...  \n",
       "\n",
       "[70 rows x 6 columns]"
      ]
     },
     "execution_count": 27,
     "metadata": {},
     "output_type": "execute_result"
    }
   ],
   "source": [
    "df.sort_values(\"diffc\", ascending = False)"
   ]
  },
  {
   "cell_type": "markdown",
   "metadata": {},
   "source": [
    "Топ-3 самых сложных новостей:"
   ]
  },
  {
   "cell_type": "code",
   "execution_count": 29,
   "metadata": {},
   "outputs": [
    {
     "data": {
      "text/html": [
       "<div>\n",
       "<style scoped>\n",
       "    .dataframe tbody tr th:only-of-type {\n",
       "        vertical-align: middle;\n",
       "    }\n",
       "\n",
       "    .dataframe tbody tr th {\n",
       "        vertical-align: top;\n",
       "    }\n",
       "\n",
       "    .dataframe thead th {\n",
       "        text-align: right;\n",
       "    }\n",
       "</style>\n",
       "<table border=\"1\" class=\"dataframe\">\n",
       "  <thead>\n",
       "    <tr style=\"text-align: right;\">\n",
       "      <th></th>\n",
       "      <th>title</th>\n",
       "      <th>author</th>\n",
       "      <th>date</th>\n",
       "      <th>diffc</th>\n",
       "      <th>rubrics</th>\n",
       "      <th>text</th>\n",
       "    </tr>\n",
       "  </thead>\n",
       "  <tbody>\n",
       "    <tr>\n",
       "      <th>61</th>\n",
       "      <td>Две группы физиков смоделировали неабелевы эни...</td>\n",
       "      <td>Марат Хамадеев</td>\n",
       "      <td>2023-05-16</td>\n",
       "      <td>9.3</td>\n",
       "      <td>Физика</td>\n",
       "      <td>Один компьютер — на сверхпроводящих контурах, ...</td>\n",
       "    </tr>\n",
       "    <tr>\n",
       "      <th>57</th>\n",
       "      <td>Неравенства Белла без лазеек проверили на свер...</td>\n",
       "      <td>Марат Хамадеев</td>\n",
       "      <td>2023-05-11</td>\n",
       "      <td>7.8</td>\n",
       "      <td>Физика</td>\n",
       "      <td>Для этого их разнесли более чем на 30 метров Ф...</td>\n",
       "    </tr>\n",
       "    <tr>\n",
       "      <th>58</th>\n",
       "      <td>В распадах тау-лептонов не нашли темных бозонов</td>\n",
       "      <td>Марат Хамадеев</td>\n",
       "      <td>2023-05-13</td>\n",
       "      <td>7.6</td>\n",
       "      <td>Физика</td>\n",
       "      <td>Результат получила коллаборация Belle II Выход...</td>\n",
       "    </tr>\n",
       "  </tbody>\n",
       "</table>\n",
       "</div>"
      ],
      "text/plain": [
       "                                                title          author  \\\n",
       "61  Две группы физиков смоделировали неабелевы эни...  Марат Хамадеев   \n",
       "57  Неравенства Белла без лазеек проверили на свер...  Марат Хамадеев   \n",
       "58    В распадах тау-лептонов не нашли темных бозонов  Марат Хамадеев   \n",
       "\n",
       "          date  diffc rubrics  \\\n",
       "61  2023-05-16    9.3  Физика   \n",
       "57  2023-05-11    7.8  Физика   \n",
       "58  2023-05-13    7.6  Физика   \n",
       "\n",
       "                                                 text  \n",
       "61  Один компьютер — на сверхпроводящих контурах, ...  \n",
       "57  Для этого их разнесли более чем на 30 метров Ф...  \n",
       "58  Результат получила коллаборация Belle II Выход...  "
      ]
     },
     "execution_count": 29,
     "metadata": {},
     "output_type": "execute_result"
    }
   ],
   "source": [
    "df.sort_values(\"diffc\", ascending = False).head(3)"
   ]
  },
  {
   "cell_type": "markdown",
   "metadata": {},
   "source": [
    "Топ-3 самых простых новостей:"
   ]
  },
  {
   "cell_type": "code",
   "execution_count": 30,
   "metadata": {},
   "outputs": [
    {
     "data": {
      "text/html": [
       "<div>\n",
       "<style scoped>\n",
       "    .dataframe tbody tr th:only-of-type {\n",
       "        vertical-align: middle;\n",
       "    }\n",
       "\n",
       "    .dataframe tbody tr th {\n",
       "        vertical-align: top;\n",
       "    }\n",
       "\n",
       "    .dataframe thead th {\n",
       "        text-align: right;\n",
       "    }\n",
       "</style>\n",
       "<table border=\"1\" class=\"dataframe\">\n",
       "  <thead>\n",
       "    <tr style=\"text-align: right;\">\n",
       "      <th></th>\n",
       "      <th>title</th>\n",
       "      <th>author</th>\n",
       "      <th>date</th>\n",
       "      <th>diffc</th>\n",
       "      <th>rubrics</th>\n",
       "      <th>text</th>\n",
       "    </tr>\n",
       "  </thead>\n",
       "  <tbody>\n",
       "    <tr>\n",
       "      <th>50</th>\n",
       "      <td>В Швеции обнаружили двухметровое наскальное из...</td>\n",
       "      <td>Михаил Подрезов</td>\n",
       "      <td>2023-05-22</td>\n",
       "      <td>1.1</td>\n",
       "      <td>Археология</td>\n",
       "      <td>В общей сложности археологи открыли около 40 д...</td>\n",
       "    </tr>\n",
       "    <tr>\n",
       "      <th>48</th>\n",
       "      <td>В древнеримском форте нашли рельеф с изображен...</td>\n",
       "      <td>Михаил Подрезов</td>\n",
       "      <td>2023-05-20</td>\n",
       "      <td>1.1</td>\n",
       "      <td>Археология</td>\n",
       "      <td>Третья фигура в этой композиции — рог изобилия...</td>\n",
       "    </tr>\n",
       "    <tr>\n",
       "      <th>37</th>\n",
       "      <td>Восьмилетняя норвежка обнаружила кремневый кин...</td>\n",
       "      <td>Михаил Подрезов</td>\n",
       "      <td>2023-05-09</td>\n",
       "      <td>1.1</td>\n",
       "      <td>Археология</td>\n",
       "      <td>Возраст находки больше 3700 лет Восьмилетняя н...</td>\n",
       "    </tr>\n",
       "  </tbody>\n",
       "</table>\n",
       "</div>"
      ],
      "text/plain": [
       "                                                title           author  \\\n",
       "50  В Швеции обнаружили двухметровое наскальное из...  Михаил Подрезов   \n",
       "48  В древнеримском форте нашли рельеф с изображен...  Михаил Подрезов   \n",
       "37  Восьмилетняя норвежка обнаружила кремневый кин...  Михаил Подрезов   \n",
       "\n",
       "          date  diffc     rubrics  \\\n",
       "50  2023-05-22    1.1  Археология   \n",
       "48  2023-05-20    1.1  Археология   \n",
       "37  2023-05-09    1.1  Археология   \n",
       "\n",
       "                                                 text  \n",
       "50  В общей сложности археологи открыли около 40 д...  \n",
       "48  Третья фигура в этой композиции — рог изобилия...  \n",
       "37  Возраст находки больше 3700 лет Восьмилетняя н...  "
      ]
     },
     "execution_count": 30,
     "metadata": {},
     "output_type": "execute_result"
    }
   ],
   "source": [
    "df.sort_values(\"diffc\").head(3)"
   ]
  },
  {
   "cell_type": "markdown",
   "metadata": {},
   "source": [
    "Наконец, выгружаем датафрейм в файл:"
   ]
  },
  {
   "cell_type": "code",
   "execution_count": 31,
   "metadata": {},
   "outputs": [],
   "source": [
    "df.to_excel(\"nplus1.xlsx\")"
   ]
  }
 ],
 "metadata": {
  "kernelspec": {
   "display_name": "Python 3",
   "language": "python",
   "name": "python3"
  },
  "language_info": {
   "codemirror_mode": {
    "name": "ipython",
    "version": 3
   },
   "file_extension": ".py",
   "mimetype": "text/x-python",
   "name": "python",
   "nbconvert_exporter": "python",
   "pygments_lexer": "ipython3",
   "version": "3.7.4"
  }
 },
 "nbformat": 4,
 "nbformat_minor": 2
}
