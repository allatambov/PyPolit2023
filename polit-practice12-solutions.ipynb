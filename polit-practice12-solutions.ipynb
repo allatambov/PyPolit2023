{
 "cells": [
  {
   "cell_type": "markdown",
   "metadata": {},
   "source": [
    "# Основы программирования в Python\n",
    "\n",
    "## Практикум 12. Повторение, подготовка к НЭ\n",
    "\n",
    "*Алла Тамбовцева, НИУ ВШЭ*"
   ]
  },
  {
   "cell_type": "markdown",
   "metadata": {},
   "source": [
    "### Задача 1\n",
    "\n",
    "В текстовом файле находится выгрузка постов из Твиттера, за некоторый период, в которых встречаются имена пользователей. Выясните, каких пользователей упоминали чаще, а каких реже, подсчитав количество употреблений каждого.\n",
    "\n",
    "**ФОРМАТ ВВОДА**\n",
    "\n",
    "Текстовый файл `data.txt`, в котором записана подборка постов из Твиттера. Упомянутым пользователем считается любое слово, начинающееся с '@'.  Знак пробела не может содержаться в имени пользователя и сигнализирует, что имя закончилось.\n",
    "\n",
    "**ФОРМАТ ВЫВОДА**\n",
    "\n",
    "Словарь, где ключи — имена пользователей, а значения — количество упоминаний. Имена должны быть добавлены в словарь в том же порядке, в каком они встречались в оригинальном файле\n",
    "\n",
    "**ДОПОЛНИТЕЛЬНО**\n",
    "\n",
    "В открытом тесте используются файл data.txt. Вы можете скачать его и проверить свое решение локально.\n",
    "\n",
    "В примере в первой колонке отображается номер теста (0 — открытый тест), считывать это число или использовать его в вашем решении не нужно.\n",
    "\n",
    "Пример результата:\n",
    "\n",
    "    {'@Simone_Biles': 4, '@amyycoylee': 2, '@UCLAFootball': 1, '@jasonbskates': 3}"
   ]
  },
  {
   "cell_type": "code",
   "execution_count": 4,
   "metadata": {},
   "outputs": [
    {
     "name": "stdout",
     "output_type": "stream",
     "text": [
      "{'@Simone_Biles': 4, '@amyycoylee': 2, '@UCLAFootball': 1, '@jasonbskates': 3}\n"
     ]
    }
   ],
   "source": [
    "with open(\"data.txt\", \"r\", encoding = \"UTF-8\") as file:\n",
    "    text = file.read()\n",
    "words = text.split()\n",
    "counts = {}\n",
    "for word in words:\n",
    "    if word.startswith(\"@\"):\n",
    "        counts[word] = counts.get(word, 0) + 1\n",
    "print(counts)"
   ]
  },
  {
   "cell_type": "code",
   "execution_count": 5,
   "metadata": {},
   "outputs": [
    {
     "name": "stdout",
     "output_type": "stream",
     "text": [
      "{'@Simone_Biles': 4, '@amyycoylee': 2, '@UCLAFootball': 1, '@jasonbskates': 3}\n"
     ]
    }
   ],
   "source": [
    "with open(\"data.txt\", \"r\", encoding = \"UTF-8\") as file:\n",
    "    text = file.read()\n",
    "words = text.split()\n",
    "counts = {}\n",
    "for word in words:\n",
    "    if word.startswith(\"@\"):\n",
    "        if word not in counts:\n",
    "            counts[word] = 1\n",
    "        else:\n",
    "            counts[word] += 1\n",
    "print(counts)"
   ]
  },
  {
   "cell_type": "markdown",
   "metadata": {},
   "source": [
    "### Задача 2\n",
    "\n",
    "В текстовом файле находится выгрузка постов из Твиттера, за некоторый период, в которых встречаются имена пользователей. Выясните, каких пользователей упоминали чаще, а каких реже, подсчитав количество употреблений каждого, и запишите результат в файл.\n",
    "\n",
    "**ФОРМАТ ВВОДА**\n",
    "\n",
    "Текстовый файл `data.txt`, в котором записана подборка постов из Твиттера. Упомянутым пользователем считается любое слово, начинающееся с '@'.  Знак пробела не может содержаться в имени пользователя и сигнализирует, что имя закончилось.\n",
    "\n",
    "**ФОРМАТ ВЫВОДА**\n",
    "\n",
    "Текстовый файл `users.txt` в кодировке utf-8, где каждый пользователь, упомянутый в файле `data.txt`, записан в формате \"пользователь: <@имя пользователя>, упоминаний: <кол-во упоминаний>\". Каждый пользователь должен быть записан на отдельной строке, имена нужно отсортировать по количеству упоминаний от самого большого к самому маленькому\n",
    "\n",
    "**ДОПОЛНИТЕЛЬНО**\n",
    "\n",
    "В открытом тесте используются файлы `data.txt` и `users.txt`. Вы можете скачать их и проверить свое решение локально.\n",
    "\n",
    "В примере в первой колонке отображается номер теста (0 — открытый тест), считывать это число или использовать его в вашем решении не нужно.\n",
    "\n",
    "Пример результата:\n",
    "\n",
    "    пользователь: @Simone_Biles, упоминаний: 4\n",
    "    пользователь: @jasonbskates, упоминаний: 3\n",
    "    пользователь: @amyycoylee, упоминаний: 2\n",
    "    пользователь: @UCLAFootball, упоминаний: 1"
   ]
  },
  {
   "cell_type": "code",
   "execution_count": 8,
   "metadata": {},
   "outputs": [],
   "source": [
    "with open(\"data.txt\", \"r\", encoding = \"UTF-8\") as file:\n",
    "    text = file.read()\n",
    "words = text.split()\n",
    "counts = {}\n",
    "for word in words:\n",
    "    if word.startswith(\"@\"):\n",
    "        counts[word] = counts.get(word, 0) + 1\n",
    "\n",
    "L = sorted(counts.items(), key = lambda x: x[1], reverse = True)\n",
    "\n",
    "with open(\"users.txt\", \"w\", encoding = \"UTF-8\") as result:\n",
    "    for user, freq in L:\n",
    "        print(f\"пользователь: {user}, упоминаний: {freq}\", file = result)"
   ]
  },
  {
   "cell_type": "markdown",
   "metadata": {},
   "source": [
    "### Задача 3\n",
    "\n",
    "Маша и Ася хотят снять квартиру. У них есть база данных, где содержится информация о количестве комнат в квартире, ближайшей станции метро и цене. Помогите девушкам найти самые дешевые квартиры возле нужной станции метро. \n",
    "\n",
    "**ФОРМАТ ВВОДА**\n",
    "\n",
    "Файл `apartments.csv`, на каждой строке которого через запятую записаны id квартиры (произвольная строка), количество комнат (целое число), ближайшая станция метро и цена (вещественное число). Например, \"384848,2,Бабушкинская,45000\". \n",
    "Также вводится предпочитаемая станция метро. \n",
    "\n",
    "**ФОРМАТ ВЫВОДА**\n",
    "\n",
    "Файл `filtered-apartments.csv`, где записаны строки из вводного файла, соответствующие квартирам, находящимся возле введённой станции метро. \n",
    "Строки должны быть упорядочены по цене квартир от самых дешевых к самым дорогим.\n",
    "\n",
    "**ДОПОЛНИТЕЛЬНО**\n",
    "\n",
    "В открытом тесте используется вводный файл `apartments.csv`, а на выходе должен получаться файл `filtered-apartments.csv`. Вы можете скачать их и проверить свое решение локально. \n",
    "\n",
    "В примере в первой колонке отображается номер теста (0 — открытый тест), считывать это число или использовать его в вашем решении не нужно.\n",
    "\n",
    "Ваше решение будет проверяться на закрытых тестах. Ваш код должен считывать файл `'apartments.csv'` без дополнительных указаний (например, пути к файлу на вашем компьютере). Также ваш код просто записывает данные в файл `'filtered-apartments.csv'` и не выводит его. При проверке ваш файл считается автоматически."
   ]
  },
  {
   "cell_type": "code",
   "execution_count": 12,
   "metadata": {},
   "outputs": [],
   "source": [
    "metro = input()\n",
    "with open(\"apartments.csv\", encoding = \"UTF-8\") as input_file:\n",
    "    lines = input_file.readlines()\n",
    "    lines = [line.rstrip() for line in lines] \n",
    "data = [line.split(\",\") for line in lines]\n",
    "\n",
    "chosen = []\n",
    "for part in data:\n",
    "    if part[2] == metro:\n",
    "        chosen.append(part)\n",
    "final = sorted(chosen, key = lambda x: float(x[-1]))\n",
    "\n",
    "with open(\"filtered-apartments.csv\", \"w\", encoding = \"UTF-8\") as out_file:\n",
    "    for f in final:\n",
    "        print(*f, sep = \",\", file = out_file)"
   ]
  },
  {
   "cell_type": "code",
   "execution_count": 35,
   "metadata": {},
   "outputs": [],
   "source": [
    "H = {\"a\", \"b\", \"c\"}"
   ]
  },
  {
   "cell_type": "code",
   "execution_count": 37,
   "metadata": {},
   "outputs": [],
   "source": [
    "hello = \"hello\""
   ]
  },
  {
   "cell_type": "code",
   "execution_count": 39,
   "metadata": {},
   "outputs": [
    {
     "name": "stdout",
     "output_type": "stream",
     "text": [
      "7 8 9\n"
     ]
    }
   ],
   "source": [
    "print(*range(7, 10))"
   ]
  },
  {
   "cell_type": "code",
   "execution_count": null,
   "metadata": {},
   "outputs": [],
   "source": []
  }
 ],
 "metadata": {
  "kernelspec": {
   "display_name": "Python 3",
   "language": "python",
   "name": "python3"
  },
  "language_info": {
   "codemirror_mode": {
    "name": "ipython",
    "version": 3
   },
   "file_extension": ".py",
   "mimetype": "text/x-python",
   "name": "python",
   "nbconvert_exporter": "python",
   "pygments_lexer": "ipython3",
   "version": "3.8.3"
  }
 },
 "nbformat": 4,
 "nbformat_minor": 2
}
