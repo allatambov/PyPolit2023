{
 "cells": [
  {
   "cell_type": "markdown",
   "metadata": {},
   "source": [
    "# Основы программирования в Python\n",
    "\n",
    "*Алла Тамбовцева, НИУ ВШЭ*\n",
    "\n",
    "## Практикум 10: функции"
   ]
  },
  {
   "cell_type": "markdown",
   "metadata": {},
   "source": [
    "### Задача 1\n",
    "\n",
    "Напишите функцию `nums()`, которая принимает на вход целое число, а возвращает список из двух элементов: целое число, предшествующее принятому на вход, и число, следующее за ним.\n",
    "\n",
    "**Пример работы функции**\n",
    "\n",
    "Ввод:\n",
    "\n",
    "    7\n",
    "\n",
    "Результат:\n",
    "\n",
    "    [6, 8]"
   ]
  },
  {
   "cell_type": "code",
   "execution_count": 1,
   "metadata": {},
   "outputs": [],
   "source": [
    "def nums(n):\n",
    "    return [n - 1, n + 1] "
   ]
  },
  {
   "cell_type": "code",
   "execution_count": 2,
   "metadata": {},
   "outputs": [
    {
     "data": {
      "text/plain": [
       "[-1, 1]"
      ]
     },
     "execution_count": 2,
     "metadata": {},
     "output_type": "execute_result"
    }
   ],
   "source": [
    "nums(0)"
   ]
  },
  {
   "cell_type": "code",
   "execution_count": 3,
   "metadata": {},
   "outputs": [],
   "source": [
    "# если не поставить квадратные скобки,\n",
    "# Python сам склеит результаты в кортеж (tuple)\n",
    "\n",
    "def nums(n):\n",
    "    return n - 1, n + 1"
   ]
  },
  {
   "cell_type": "code",
   "execution_count": 4,
   "metadata": {},
   "outputs": [
    {
     "data": {
      "text/plain": [
       "(-1, 1)"
      ]
     },
     "execution_count": 4,
     "metadata": {},
     "output_type": "execute_result"
    }
   ],
   "source": [
    "nums(0)"
   ]
  },
  {
   "cell_type": "markdown",
   "metadata": {},
   "source": [
    "### Задача 2\n",
    "\n",
    "Напишите функцию `to_words()`, которая принимает на вход строку с некоторым текстом (слова через пробел), и возвращает список слов без повторений, отсортированный по алфавиту.\n",
    "\n",
    "**Пример работы функции**\n",
    "\n",
    "Ввод:\n",
    "\n",
    "    \"В лесу родилась ёлочка В лесу она росла\"\n",
    "\n",
    "Результат:\n",
    "\n",
    "    ['В', 'лесу', 'она', 'родилась', 'росла', 'ёлочка']"
   ]
  },
  {
   "cell_type": "code",
   "execution_count": 6,
   "metadata": {},
   "outputs": [],
   "source": [
    "def to_words(text):\n",
    "    return sorted(set(text.split())) "
   ]
  },
  {
   "cell_type": "code",
   "execution_count": 7,
   "metadata": {},
   "outputs": [
    {
     "data": {
      "text/plain": [
       "['В', 'лесу', 'она', 'родилась', 'росла', 'ёлочка']"
      ]
     },
     "execution_count": 7,
     "metadata": {},
     "output_type": "execute_result"
    }
   ],
   "source": [
    "to_words(\"В лесу родилась ёлочка В лесу она росла\") "
   ]
  },
  {
   "cell_type": "markdown",
   "metadata": {},
   "source": [
    "### Задача 3\n",
    "\n",
    "Дан фрагмент программы:\n",
    "\n",
    "     [1] def text2words(text):\n",
    "     [2]     words = text.lower().split()\n",
    "     [3]     return words\n",
    "     [4] \n",
    "     [5] def count_words(text):\n",
    "     [6]     count_dict = {}\n",
    "     [7]     words = text_to_words(text)\n",
    "     [8]     for word in set(words):\n",
    "     [9]         count_dict[word] = words.count(word)\n",
    "    [10]     return count_dict\n",
    "    [11] \n",
    "    [12] phrase = 'Одна панда ест бамбук а другая панда спит'\n",
    "    [13] print(count_words(phrase))\n",
    "\n",
    "Программа выше должна выводить:\n",
    "\n",
    "    {'ест': 1, 'панда': 2, 'другая': 1, 'спит': 1, 'бамбук': 1, 'а': 1, 'одна': 1}\n",
    "\n",
    "Выберите причину, по которой программа не будет работать, как ожидается.\n",
    "\n",
    "* В строке `[8]` список words превращается в множество.\n",
    "* Вложенная функция `text2words` определена раньше основной.\n",
    "* **Вложенная функция в строке `[7]` вызывается с неправильным названием.**\n",
    "* В строке `[13]` функция `count_words` вызывается с аргументом `phrase`, а не `text`."
   ]
  },
  {
   "cell_type": "markdown",
   "metadata": {},
   "source": [
    "### Задача 4\n",
    "\n",
    "Реализуйте программу, которая добавляет новый элемент в список. Определите функцию `add_course`, которая принимает два аргумента:\n",
    "\n",
    "* `courses` — список названий курсов (строки), который может быть пустым.\n",
    "* `new_course` — название нового курса (строка).\n",
    "\n",
    "Функция возвращает список `courses`, в который добавлен новый курс. Если новый курс уже был в списке, то функция возвращает оригинальный список.\n",
    "\n",
    "ВАЖНО! В этой задаче вы только определяете функцию, вызывать ее и считывать значения не нужно, это произойдет автоматически при проверке.\n",
    "\n",
    "**Примеры работы функции**\n",
    "\n",
    "Ввод:\t\n",
    "\n",
    "    ['Этика', 'Статистика'], 'Статистика'\n",
    "\n",
    "Результат:\n",
    "\n",
    "    ['Этика', 'Статистика']\n",
    "\n",
    "Ввод:\n",
    "\n",
    "    [], 'Программирование'\n",
    "\n",
    "Результат:\n",
    "\n",
    "    ['Программирование']"
   ]
  },
  {
   "cell_type": "code",
   "execution_count": 8,
   "metadata": {},
   "outputs": [],
   "source": [
    "def add_courses(courses, new_course):\n",
    "    if new_course not in courses:\n",
    "        courses.append(new_course)\n",
    "    return courses"
   ]
  },
  {
   "cell_type": "code",
   "execution_count": 9,
   "metadata": {},
   "outputs": [
    {
     "data": {
      "text/plain": [
       "['Этика', 'Статистика']"
      ]
     },
     "execution_count": 9,
     "metadata": {},
     "output_type": "execute_result"
    }
   ],
   "source": [
    "add_courses(['Этика', 'Статистика'], 'Статистика')"
   ]
  },
  {
   "cell_type": "code",
   "execution_count": 10,
   "metadata": {},
   "outputs": [
    {
     "data": {
      "text/plain": [
       "['Программирование']"
      ]
     },
     "execution_count": 10,
     "metadata": {},
     "output_type": "execute_result"
    }
   ],
   "source": [
    "add_courses([], 'Программирование')"
   ]
  },
  {
   "cell_type": "markdown",
   "metadata": {},
   "source": [
    "### Задача 5\n",
    "\n",
    "На повышенную стипендию могут претендовать студенты со средним баллом не ниже 8 по 10-балльной шкале. \n",
    "\n",
    "Напишите функцию, которая определяет студентов, претендующих на повышенную стипендию. \n",
    "\n",
    "ТРЕБУЕМАЯ ФУНКЦИЯ \n",
    "\n",
    "* Функция `get_excellent`, которая принимает на вход словарь. \n",
    "* Его ключами являются имена студентов, а значениями — списки оценок (целых чисел от 1 до 10). Гарантируется, что в словаре есть информация как минимум об одном студенте.\n",
    "* Функция должна возвращать список имен студентов, средний балл которых не ниже 8, отсортированный в алфавитном порядке. Если таких студентов нет — функция возвращает пустой список.\n",
    "\n",
    "ВАЖНО! В этой задаче вы только определяете функцию, вызывать ее и считывать значения не нужно, это произойдет автоматически при проверке.\n",
    "\n",
    "Для примера:\n",
    "\n",
    "Ввод:\t\n",
    "\n",
    "    {\n",
    "    'Harry Potter': [7, 6, 8, 6, 6],\n",
    "    'Hermione Granger': [10, 10, 9, 10, 10, 9, 9],\n",
    "    'Ron Weasley': [6, 5, 7, 4, 5],\n",
    "    'Ginny Weasley': [9, 7, 8]\n",
    "    }\n",
    "\n",
    "Результат:\n",
    "\n",
    "    ['Ginny Weasley', 'Hermione Granger']\n",
    "\n",
    "Ввод:\n",
    "\n",
    "    {\n",
    "    'Harry Potter': [7, 6, 8, 6, 6],\n",
    "    'Neville Longbottom': [6, 10, 7, 7, 9],\n",
    "    'Ron Weasley': [6, 5, 7, 4, 5],\n",
    "    'Ginny Weasley': [7, 7, 8]\n",
    "    }\n",
    "\n",
    "Результат:\n",
    "\n",
    "    []"
   ]
  },
  {
   "cell_type": "code",
   "execution_count": 11,
   "metadata": {},
   "outputs": [],
   "source": [
    "def get_excellent(book):\n",
    "    students = []\n",
    "    for name, grades in book.items():\n",
    "        ave = sum(grades) / len(grades)\n",
    "        if ave >= 8:\n",
    "            students.append(name)\n",
    "    return sorted(students) "
   ]
  },
  {
   "cell_type": "code",
   "execution_count": 12,
   "metadata": {},
   "outputs": [
    {
     "data": {
      "text/plain": [
       "[]"
      ]
     },
     "execution_count": 12,
     "metadata": {},
     "output_type": "execute_result"
    }
   ],
   "source": [
    "get_excellent({\n",
    "'Harry Potter': [7, 6, 8, 6, 6],\n",
    "'Neville Longbottom': [6, 10, 7, 7, 9],\n",
    "'Ron Weasley': [6, 5, 7, 4, 5],\n",
    "'Ginny Weasley': [7, 7, 8]\n",
    "})"
   ]
  },
  {
   "cell_type": "code",
   "execution_count": 13,
   "metadata": {},
   "outputs": [
    {
     "data": {
      "text/plain": [
       "['Ginny Weasley', 'Hermione Granger']"
      ]
     },
     "execution_count": 13,
     "metadata": {},
     "output_type": "execute_result"
    }
   ],
   "source": [
    "get_excellent({\n",
    "'Harry Potter': [7, 6, 8, 6, 6],\n",
    "'Hermione Granger': [10, 10, 9, 10, 10, 9, 9],\n",
    "'Ron Weasley': [6, 5, 7, 4, 5],\n",
    "'Ginny Weasley': [9, 7, 8]\n",
    "})"
   ]
  }
 ],
 "metadata": {
  "kernelspec": {
   "display_name": "Python 3",
   "language": "python",
   "name": "python3"
  },
  "language_info": {
   "codemirror_mode": {
    "name": "ipython",
    "version": 3
   },
   "file_extension": ".py",
   "mimetype": "text/x-python",
   "name": "python",
   "nbconvert_exporter": "python",
   "pygments_lexer": "ipython3",
   "version": "3.7.4"
  }
 },
 "nbformat": 4,
 "nbformat_minor": 2
}
